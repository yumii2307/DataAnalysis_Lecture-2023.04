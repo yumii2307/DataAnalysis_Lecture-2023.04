{
 "cells": [
  {
   "cell_type": "code",
   "execution_count": 49,
   "metadata": {},
   "outputs": [],
   "source": [
    "import time\n",
    "import requests\n",
    "import pandas as pd\n",
    "from selenium import webdriver\n",
    "from selenium.webdriver.common.by import By\n",
    "from selenium.webdriver.common.keys import Keys\n",
    "from bs4 import BeautifulSoup\n",
    "import warnings\n",
    "warnings.filterwarnings('ignore')"
   ]
  },
  {
   "cell_type": "code",
   "execution_count": 88,
   "metadata": {},
   "outputs": [],
   "source": [
    "url = 'https://www.imdb.com/title/tt0111161/reviews?ref_=tt_urv'\n",
    "driver = webdriver.Chrome('C:/Users/YONSAI/Downloads/chromedriver')\n",
    "driver.get(url)\n",
    "time.sleep(2)\n",
    "soup = BeautifulSoup(driver.page_source, 'html.parser')"
   ]
  },
  {
   "cell_type": "code",
   "execution_count": 89,
   "metadata": {},
   "outputs": [],
   "source": [
    "driver.find_element(By.CLASS_NAME, 'expander-icon-wrapper.spoiler-warning__control').click()"
   ]
  },
  {
   "cell_type": "code",
   "execution_count": 90,
   "metadata": {},
   "outputs": [
    {
     "data": {
      "text/plain": [
       "25"
      ]
     },
     "execution_count": 90,
     "metadata": {},
     "output_type": "execute_result"
    }
   ],
   "source": [
    "divs = driver.find_elements(By.CLASS_NAME, 'lister-item-content')\n",
    "len(divs)"
   ]
  },
  {
   "cell_type": "code",
   "execution_count": 91,
   "metadata": {},
   "outputs": [
    {
     "data": {
      "text/plain": [
       "\"Some birds aren't meant to be caged.\""
      ]
     },
     "execution_count": 91,
     "metadata": {},
     "output_type": "execute_result"
    }
   ],
   "source": [
    "div = divs[0]\n",
    "title = div.find_element(By.CLASS_NAME, 'title').text\n",
    "title"
   ]
  },
  {
   "cell_type": "code",
   "execution_count": 92,
   "metadata": {},
   "outputs": [
    {
     "ename": "ElementNotInteractableException",
     "evalue": "Message: element not interactable: element has zero size\n  (Session info: chrome=112.0.5615.138)\nStacktrace:\nBacktrace:\n\tGetHandleVerifier [0x00A9DCE3+50899]\n\t(No symbol) [0x00A2E111]\n\t(No symbol) [0x00935588]\n\t(No symbol) [0x00961A47]\n\t(No symbol) [0x009594A5]\n\t(No symbol) [0x0097B8FC]\n\t(No symbol) [0x00958EC6]\n\t(No symbol) [0x0097BC54]\n\t(No symbol) [0x0098E01C]\n\t(No symbol) [0x0097B6F6]\n\t(No symbol) [0x00957708]\n\t(No symbol) [0x0095886D]\n\tGetHandleVerifier [0x00D03EAE+2566302]\n\tGetHandleVerifier [0x00D392B1+2784417]\n\tGetHandleVerifier [0x00D3327C+2759788]\n\tGetHandleVerifier [0x00B35740+672048]\n\t(No symbol) [0x00A38872]\n\t(No symbol) [0x00A341C8]\n\t(No symbol) [0x00A342AB]\n\t(No symbol) [0x00A271B7]\n\tBaseThreadInitThunk [0x76810099+25]\n\tRtlGetAppContainerNamedObjectPath [0x778F7B6E+286]\n\tRtlGetAppContainerNamedObjectPath [0x778F7B3E+238]\n",
     "output_type": "error",
     "traceback": [
      "\u001b[1;31m---------------------------------------------------------------------------\u001b[0m",
      "\u001b[1;31mElementNotInteractableException\u001b[0m           Traceback (most recent call last)",
      "Cell \u001b[1;32mIn[92], line 1\u001b[0m\n\u001b[1;32m----> 1\u001b[0m div\u001b[39m.\u001b[39;49mfind_element(By\u001b[39m.\u001b[39;49mCLASS_NAME, \u001b[39m'\u001b[39;49m\u001b[39mipl-expander__container\u001b[39;49m\u001b[39m'\u001b[39;49m)\u001b[39m.\u001b[39;49mclick()\n",
      "File \u001b[1;32mc:\\Users\\YONSAI\\anaconda3\\lib\\site-packages\\selenium\\webdriver\\remote\\webelement.py:94\u001b[0m, in \u001b[0;36mWebElement.click\u001b[1;34m(self)\u001b[0m\n\u001b[0;32m     92\u001b[0m \u001b[39mdef\u001b[39;00m \u001b[39mclick\u001b[39m(\u001b[39mself\u001b[39m) \u001b[39m-\u001b[39m\u001b[39m>\u001b[39m \u001b[39mNone\u001b[39;00m:\n\u001b[0;32m     93\u001b[0m \u001b[39m    \u001b[39m\u001b[39m\"\"\"Clicks the element.\"\"\"\u001b[39;00m\n\u001b[1;32m---> 94\u001b[0m     \u001b[39mself\u001b[39;49m\u001b[39m.\u001b[39;49m_execute(Command\u001b[39m.\u001b[39;49mCLICK_ELEMENT)\n",
      "File \u001b[1;32mc:\\Users\\YONSAI\\anaconda3\\lib\\site-packages\\selenium\\webdriver\\remote\\webelement.py:403\u001b[0m, in \u001b[0;36mWebElement._execute\u001b[1;34m(self, command, params)\u001b[0m\n\u001b[0;32m    401\u001b[0m     params \u001b[39m=\u001b[39m {}\n\u001b[0;32m    402\u001b[0m params[\u001b[39m\"\u001b[39m\u001b[39mid\u001b[39m\u001b[39m\"\u001b[39m] \u001b[39m=\u001b[39m \u001b[39mself\u001b[39m\u001b[39m.\u001b[39m_id\n\u001b[1;32m--> 403\u001b[0m \u001b[39mreturn\u001b[39;00m \u001b[39mself\u001b[39;49m\u001b[39m.\u001b[39;49m_parent\u001b[39m.\u001b[39;49mexecute(command, params)\n",
      "File \u001b[1;32mc:\\Users\\YONSAI\\anaconda3\\lib\\site-packages\\selenium\\webdriver\\remote\\webdriver.py:440\u001b[0m, in \u001b[0;36mWebDriver.execute\u001b[1;34m(self, driver_command, params)\u001b[0m\n\u001b[0;32m    438\u001b[0m response \u001b[39m=\u001b[39m \u001b[39mself\u001b[39m\u001b[39m.\u001b[39mcommand_executor\u001b[39m.\u001b[39mexecute(driver_command, params)\n\u001b[0;32m    439\u001b[0m \u001b[39mif\u001b[39;00m response:\n\u001b[1;32m--> 440\u001b[0m     \u001b[39mself\u001b[39;49m\u001b[39m.\u001b[39;49merror_handler\u001b[39m.\u001b[39;49mcheck_response(response)\n\u001b[0;32m    441\u001b[0m     response[\u001b[39m\"\u001b[39m\u001b[39mvalue\u001b[39m\u001b[39m\"\u001b[39m] \u001b[39m=\u001b[39m \u001b[39mself\u001b[39m\u001b[39m.\u001b[39m_unwrap_value(response\u001b[39m.\u001b[39mget(\u001b[39m\"\u001b[39m\u001b[39mvalue\u001b[39m\u001b[39m\"\u001b[39m, \u001b[39mNone\u001b[39;00m))\n\u001b[0;32m    442\u001b[0m     \u001b[39mreturn\u001b[39;00m response\n",
      "File \u001b[1;32mc:\\Users\\YONSAI\\anaconda3\\lib\\site-packages\\selenium\\webdriver\\remote\\errorhandler.py:245\u001b[0m, in \u001b[0;36mErrorHandler.check_response\u001b[1;34m(self, response)\u001b[0m\n\u001b[0;32m    243\u001b[0m         alert_text \u001b[39m=\u001b[39m value[\u001b[39m\"\u001b[39m\u001b[39malert\u001b[39m\u001b[39m\"\u001b[39m]\u001b[39m.\u001b[39mget(\u001b[39m\"\u001b[39m\u001b[39mtext\u001b[39m\u001b[39m\"\u001b[39m)\n\u001b[0;32m    244\u001b[0m     \u001b[39mraise\u001b[39;00m exception_class(message, screen, stacktrace, alert_text)  \u001b[39m# type: ignore[call-arg]  # mypy is not smart enough here\u001b[39;00m\n\u001b[1;32m--> 245\u001b[0m \u001b[39mraise\u001b[39;00m exception_class(message, screen, stacktrace)\n",
      "\u001b[1;31mElementNotInteractableException\u001b[0m: Message: element not interactable: element has zero size\n  (Session info: chrome=112.0.5615.138)\nStacktrace:\nBacktrace:\n\tGetHandleVerifier [0x00A9DCE3+50899]\n\t(No symbol) [0x00A2E111]\n\t(No symbol) [0x00935588]\n\t(No symbol) [0x00961A47]\n\t(No symbol) [0x009594A5]\n\t(No symbol) [0x0097B8FC]\n\t(No symbol) [0x00958EC6]\n\t(No symbol) [0x0097BC54]\n\t(No symbol) [0x0098E01C]\n\t(No symbol) [0x0097B6F6]\n\t(No symbol) [0x00957708]\n\t(No symbol) [0x0095886D]\n\tGetHandleVerifier [0x00D03EAE+2566302]\n\tGetHandleVerifier [0x00D392B1+2784417]\n\tGetHandleVerifier [0x00D3327C+2759788]\n\tGetHandleVerifier [0x00B35740+672048]\n\t(No symbol) [0x00A38872]\n\t(No symbol) [0x00A341C8]\n\t(No symbol) [0x00A342AB]\n\t(No symbol) [0x00A271B7]\n\tBaseThreadInitThunk [0x76810099+25]\n\tRtlGetAppContainerNamedObjectPath [0x778F7B6E+286]\n\tRtlGetAppContainerNamedObjectPath [0x778F7B3E+238]\n"
     ]
    }
   ],
   "source": [
    "div.find_element(By.CLASS_NAME, 'ipl-expander__container').click()"
   ]
  },
  {
   "cell_type": "code",
   "execution_count": 58,
   "metadata": {},
   "outputs": [
    {
     "data": {
      "text/plain": [
       "'The Shawshank Redemption is written and directed by Frank Darabont. It is an adaptation of the Stephen King novella Rita Hayworth and Shawshank Redemption. Starring Tim Robbins and Morgan Freeman, the film portrays the story of Andy Dufresne (Robbins), a banker who is sentenced to two life sentences at Shawshank State Prison for apparently murdering his wife and her lover. Andy finds it tough going but finds solace in the friendship he forms with fellow inmate Ellis \"Red\" Redding (Freeman). While things start to pick up when the warden finds Andy a prison job more befitting his talents as a banker. However, the arrival of another inmate is going to vastly change things for all of them.\\n\\nThere was no fanfare or bunting put out for the release of the film back in 94, with a title that didn\\'t give much inkling to anyone about what it was about, and with Columbia Pictures unsure how to market it, Shawshank Redemption barely registered at the box office. However, come Academy Award time the film received several nominations, and although it won none, it stirred up interest in the film for its home entertainment release. The rest, as they say, is history. For the film finally found an audience that saw the film propelled to almost mythical proportions as an endearing modern day classic. Something that has delighted its fans, whilst simultaneously baffling its detractors. One thing is for sure, though, is that which ever side of the Shawshank fence you sit on, the film continues to gather new fans and simply will never go away or loose that mythical status.\\n\\nIt\\'s possibly the simplicity of it all that sends some haters of the film into cinematic spasms. The implausible plot and an apparent sentimental edge that makes a nonsense of prison life, are but two chief complaints from those that dislike the film with a passion. Yet when characters are this richly drawn, and so movingly performed, it strikes me as churlish to do down a human drama that\\'s dealing in hope, friendship and faith. The sentimental aspect is indeed there, but that acts as a counterpoint to the suffering, degradation and shattering of the soul involving our protagonist. Cosy prison life you say? No chance. The need for human connection is never more needed than during incarceration, surely? And given the quite terrific performances of Robbins (never better) & Freeman (sublimely making it easy), it\\'s the easiest thing in the world to warm to Andy and Red.\\n\\nThose in support aren\\'t faring too bad either. Bob Gunton is coiled spring smarm as Warden Norton, James Whitmore is heart achingly great as the \"Birdman Of Shawshank,\" Clancy Brown is menacing as antagonist Capt. Byron Hadley, William Sadler amusing as Heywood & Mark Rolston is impressively vile as Bogs Diamond. Then there\\'s Roger Deakins\\' lush cinematography as the camera gracefully glides in and out of the prison offering almost ethereal hope to our characters (yes, they are ours). The music pings in conjunction with the emotional flow of the movie too. Thomas Newman\\'s score is mostly piano based, dovetailing neatly with Andy\\'s state of mind, while the excellently selected soundtrack ranges from the likes of Hank Williams to the gorgeous Le Nozze di Figaro by Mozart.\\n\\nIf you love Shawshank then it\\'s a love that lasts a lifetime. Every viewing brings the same array of emotions - anger - revilement - happiness - sadness - inspiration and a warmth that can reduce the most hardened into misty eyed wonderment. Above all else, though, Shawshank offers hope - not just for characters in a movie - but for a better life and a better world for all of us. 10/10.'"
      ]
     },
     "execution_count": 58,
     "metadata": {},
     "output_type": "execute_result"
    }
   ],
   "source": [
    "content = div.find_element(By.CLASS_NAME, 'text.show-more__control').text\n",
    "content"
   ]
  },
  {
   "cell_type": "code",
   "execution_count": 61,
   "metadata": {},
   "outputs": [
    {
     "data": {
      "text/plain": [
       "'10'"
      ]
     },
     "execution_count": 61,
     "metadata": {},
     "output_type": "execute_result"
    }
   ],
   "source": [
    "star = div.find_element(By.TAG_NAME, 'span').text.split('/')[0]\n",
    "star"
   ]
  },
  {
   "cell_type": "code",
   "execution_count": 113,
   "metadata": {},
   "outputs": [],
   "source": [
    "review_list = []\n",
    "url = 'https://www.imdb.com/title/tt0111161/reviews?ref_=tt_urv'\n",
    "driver = webdriver.Chrome('C:/Users/YONSAI/Downloads/chromedriver')\n",
    "driver.get(url)\n",
    "time.sleep(2)\n",
    "for _ in range(39):\n",
    "    driver.find_element(By.CLASS_NAME, 'ipl-load-more__button').click()\n",
    "    time.sleep(3)\n",
    "\n",
    "divs = driver.find_elements(By.CLASS_NAME, 'lister-item.mode-detail.imdb-user-review')\n",
    "div = divs[0]\n",
    "for div in divs:\n",
    "    title = div.find_element(By.CLASS_NAME, 'title').text\n",
    "    content = div.find_element(By.CLASS_NAME, 'text.show-more__control').text\n",
    "    try:\n",
    "        star = div.find_element(By.TAG_NAME, 'span').text.split('/')[0]\n",
    "    except:\n",
    "        star = '-'\n",
    "\n",
    "    review_list.append({'score':star, 'title':title, 'content':content})"
   ]
  },
  {
   "cell_type": "code",
   "execution_count": 115,
   "metadata": {},
   "outputs": [
    {
     "data": {
      "text/html": [
       "<div>\n",
       "<style scoped>\n",
       "    .dataframe tbody tr th:only-of-type {\n",
       "        vertical-align: middle;\n",
       "    }\n",
       "\n",
       "    .dataframe tbody tr th {\n",
       "        vertical-align: top;\n",
       "    }\n",
       "\n",
       "    .dataframe thead th {\n",
       "        text-align: right;\n",
       "    }\n",
       "</style>\n",
       "<table border=\"1\" class=\"dataframe\">\n",
       "  <thead>\n",
       "    <tr style=\"text-align: right;\">\n",
       "      <th></th>\n",
       "      <th>score</th>\n",
       "      <th>title</th>\n",
       "      <th>content</th>\n",
       "    </tr>\n",
       "  </thead>\n",
       "  <tbody>\n",
       "    <tr>\n",
       "      <th>0</th>\n",
       "      <td>10</td>\n",
       "      <td>Some birds aren't meant to be caged.</td>\n",
       "      <td>The Shawshank Redemption is written and direct...</td>\n",
       "    </tr>\n",
       "    <tr>\n",
       "      <th>1</th>\n",
       "      <td>10</td>\n",
       "      <td>Don't Rent Shawshank.</td>\n",
       "      <td>I'm trying to save you money; this is the last...</td>\n",
       "    </tr>\n",
       "    <tr>\n",
       "      <th>2</th>\n",
       "      <td>10</td>\n",
       "      <td>This is How Movies Should Be Made</td>\n",
       "      <td>This movie is not your ordinary Hollywood flic...</td>\n",
       "    </tr>\n",
       "    <tr>\n",
       "      <th>3</th>\n",
       "      <td>10</td>\n",
       "      <td>A classic piece of unforgettable film-making.</td>\n",
       "      <td>In its Oscar year, Shawshank Redemption (writt...</td>\n",
       "    </tr>\n",
       "    <tr>\n",
       "      <th>4</th>\n",
       "      <td>10</td>\n",
       "      <td>Enthralling, fantastic, intriguing, truly rema...</td>\n",
       "      <td>Shawshank Redemption is without doubt one of t...</td>\n",
       "    </tr>\n",
       "    <tr>\n",
       "      <th>...</th>\n",
       "      <td>...</td>\n",
       "      <td>...</td>\n",
       "      <td>...</td>\n",
       "    </tr>\n",
       "    <tr>\n",
       "      <th>442</th>\n",
       "      <td>10</td>\n",
       "      <td>A brilliant classic</td>\n",
       "      <td>\"The Shawshank Redemption\" is simply a brillia...</td>\n",
       "    </tr>\n",
       "    <tr>\n",
       "      <th>443</th>\n",
       "      <td>9</td>\n",
       "      <td>Freedom</td>\n",
       "      <td>I still don't understand what these two Italia...</td>\n",
       "    </tr>\n",
       "    <tr>\n",
       "      <th>444</th>\n",
       "      <td>9</td>\n",
       "      <td>Resilience prevails.</td>\n",
       "      <td>Off the hop, I don't mean to upset people with...</td>\n",
       "    </tr>\n",
       "    <tr>\n",
       "      <th>445</th>\n",
       "      <td>9</td>\n",
       "      <td>A Cracking Film That Every One Should Own</td>\n",
       "      <td>The first time I watched this film I was on a ...</td>\n",
       "    </tr>\n",
       "    <tr>\n",
       "      <th>446</th>\n",
       "      <td>8</td>\n",
       "      <td>Analyzing 10 points</td>\n",
       "      <td>Let me analyze why people keep giving 10 point...</td>\n",
       "    </tr>\n",
       "  </tbody>\n",
       "</table>\n",
       "<p>447 rows × 3 columns</p>\n",
       "</div>"
      ],
      "text/plain": [
       "    score                                              title   \n",
       "0      10               Some birds aren't meant to be caged.  \\\n",
       "1      10                              Don't Rent Shawshank.   \n",
       "2      10                  This is How Movies Should Be Made   \n",
       "3      10      A classic piece of unforgettable film-making.   \n",
       "4      10  Enthralling, fantastic, intriguing, truly rema...   \n",
       "..    ...                                                ...   \n",
       "442    10                                A brilliant classic   \n",
       "443     9                                            Freedom   \n",
       "444     9                               Resilience prevails.   \n",
       "445     9          A Cracking Film That Every One Should Own   \n",
       "446     8                                Analyzing 10 points   \n",
       "\n",
       "                                               content  \n",
       "0    The Shawshank Redemption is written and direct...  \n",
       "1    I'm trying to save you money; this is the last...  \n",
       "2    This movie is not your ordinary Hollywood flic...  \n",
       "3    In its Oscar year, Shawshank Redemption (writt...  \n",
       "4    Shawshank Redemption is without doubt one of t...  \n",
       "..                                                 ...  \n",
       "442  \"The Shawshank Redemption\" is simply a brillia...  \n",
       "443  I still don't understand what these two Italia...  \n",
       "444  Off the hop, I don't mean to upset people with...  \n",
       "445  The first time I watched this film I was on a ...  \n",
       "446  Let me analyze why people keep giving 10 point...  \n",
       "\n",
       "[447 rows x 3 columns]"
      ]
     },
     "execution_count": 115,
     "metadata": {},
     "output_type": "execute_result"
    }
   ],
   "source": [
    "review_list= pd.DataFrame(review_list)\n",
    "review_list"
   ]
  },
  {
   "cell_type": "code",
   "execution_count": 25,
   "metadata": {},
   "outputs": [],
   "source": [
    "from wordcloud import WordCloud, STOPWORDS\n",
    "import matplotlib.pyplot as plt"
   ]
  },
  {
   "cell_type": "code",
   "execution_count": 26,
   "metadata": {},
   "outputs": [],
   "source": [
    "sw_wc = STOPWORDS"
   ]
  },
  {
   "cell_type": "code",
   "execution_count": null,
   "metadata": {},
   "outputs": [],
   "source": [
    "with open('data/Alice.txt') as f:\n",
    "    text = f.read()"
   ]
  },
  {
   "cell_type": "code",
   "execution_count": null,
   "metadata": {},
   "outputs": [],
   "source": [
    "wc = WordCloud(\n",
    "        background_color='white',\n",
    "        max_words=2000,\n",
    "        stopwords=sw_wc\n",
    "    ).generate(text)"
   ]
  },
  {
   "cell_type": "code",
   "execution_count": null,
   "metadata": {},
   "outputs": [],
   "source": [
    "plt.imshow(wc, interpolation='bilinear')\n",
    "plt.axis('off')\n",
    "plt.show()"
   ]
  }
 ],
 "metadata": {
  "kernelspec": {
   "display_name": "base",
   "language": "python",
   "name": "python3"
  },
  "language_info": {
   "codemirror_mode": {
    "name": "ipython",
    "version": 3
   },
   "file_extension": ".py",
   "mimetype": "text/x-python",
   "name": "python",
   "nbconvert_exporter": "python",
   "pygments_lexer": "ipython3",
   "version": "3.10.10"
  },
  "orig_nbformat": 4
 },
 "nbformat": 4,
 "nbformat_minor": 2
}
