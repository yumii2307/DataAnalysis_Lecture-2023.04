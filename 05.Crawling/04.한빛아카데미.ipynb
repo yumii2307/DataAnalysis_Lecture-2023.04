{
 "cells": [
  {
   "attachments": {},
   "cell_type": "markdown",
   "metadata": {},
   "source": [
    "### 한빛아카데미 - 새로나온 책"
   ]
  },
  {
   "attachments": {},
   "cell_type": "markdown",
   "metadata": {},
   "source": [
    "제목, 저자, 가격, 이미지"
   ]
  },
  {
   "cell_type": "code",
   "execution_count": 37,
   "metadata": {},
   "outputs": [],
   "source": [
    "import requests\n",
    "from urllib.parse import quote\n",
    "import pandas as pd\n",
    "from bs4 import BeautifulSoup\n",
    "from tqdm import tqdm"
   ]
  },
  {
   "attachments": {},
   "cell_type": "markdown",
   "metadata": {},
   "source": [
    "##### 1. 데이터 가져오기"
   ]
  },
  {
   "cell_type": "code",
   "execution_count": 38,
   "metadata": {},
   "outputs": [],
   "source": [
    "url = 'https://www.hanbit.co.kr/academy/books/new_book_list.html'\n",
    "result = requests.get(url)\n",
    "result.text\n",
    "soup = BeautifulSoup(result.text, 'html.parser')"
   ]
  },
  {
   "attachments": {},
   "cell_type": "markdown",
   "metadata": {},
   "source": [
    "##### 2. 원하는 데이터 찾기"
   ]
  },
  {
   "cell_type": "code",
   "execution_count": 39,
   "metadata": {},
   "outputs": [
    {
     "data": {
      "text/plain": [
       "20"
      ]
     },
     "execution_count": 39,
     "metadata": {},
     "output_type": "execute_result"
    }
   ],
   "source": [
    "lis = soup.select('li.sub_book_list')\n",
    "len(lis)"
   ]
  },
  {
   "attachments": {},
   "cell_type": "markdown",
   "metadata": {},
   "source": [
    "##### 3. 하나를 선택해서 원하는 정보 추출"
   ]
  },
  {
   "cell_type": "code",
   "execution_count": 40,
   "metadata": {},
   "outputs": [],
   "source": [
    "li = lis[0]"
   ]
  },
  {
   "cell_type": "code",
   "execution_count": 41,
   "metadata": {},
   "outputs": [],
   "source": [
    "# title\n",
    "title = li.select_one('.info > .book_tit').get_text()"
   ]
  },
  {
   "cell_type": "code",
   "execution_count": 42,
   "metadata": {},
   "outputs": [],
   "source": [
    "# writer\n",
    "writer = li.select_one('.info > .book_writer').get_text().strip()"
   ]
  },
  {
   "cell_type": "code",
   "execution_count": 43,
   "metadata": {},
   "outputs": [],
   "source": [
    "# price\n",
    "price = li.select_one('.img_hidden_a > .price').get_text()"
   ]
  },
  {
   "attachments": {},
   "cell_type": "markdown",
   "metadata": {},
   "source": [
    "##### 4. 한 페이지 내에 있는 정보"
   ]
  },
  {
   "cell_type": "code",
   "execution_count": 44,
   "metadata": {},
   "outputs": [
    {
     "data": {
      "text/html": [
       "<div>\n",
       "<style scoped>\n",
       "    .dataframe tbody tr th:only-of-type {\n",
       "        vertical-align: middle;\n",
       "    }\n",
       "\n",
       "    .dataframe tbody tr th {\n",
       "        vertical-align: top;\n",
       "    }\n",
       "\n",
       "    .dataframe thead th {\n",
       "        text-align: right;\n",
       "    }\n",
       "</style>\n",
       "<table border=\"1\" class=\"dataframe\">\n",
       "  <thead>\n",
       "    <tr style=\"text-align: right;\">\n",
       "      <th></th>\n",
       "      <th>title</th>\n",
       "      <th>writer</th>\n",
       "      <th>price</th>\n",
       "    </tr>\n",
       "  </thead>\n",
       "  <tbody>\n",
       "    <tr>\n",
       "      <th>0</th>\n",
       "      <td>처음 배우는 매트랩</td>\n",
       "      <td>방성완</td>\n",
       "      <td>30,000원</td>\n",
       "    </tr>\n",
       "    <tr>\n",
       "      <th>1</th>\n",
       "      <td>SAS와 메타분석을 활용한 한번에 적용하는 의학보건통계</td>\n",
       "      <td>히든그레이스 데이터분석팀</td>\n",
       "      <td>34,000원</td>\n",
       "    </tr>\n",
       "    <tr>\n",
       "      <th>2</th>\n",
       "      <td>정보교과교육론(3판)</td>\n",
       "      <td>최현종 , 전용주</td>\n",
       "      <td>30,000원</td>\n",
       "    </tr>\n",
       "    <tr>\n",
       "      <th>3</th>\n",
       "      <td>IT CookBook, 기초전자실험 with PSpice(3판)</td>\n",
       "      <td>홍순관</td>\n",
       "      <td>22,000원</td>\n",
       "    </tr>\n",
       "    <tr>\n",
       "      <th>4</th>\n",
       "      <td>경제수학 강의(3판)</td>\n",
       "      <td>김성현</td>\n",
       "      <td>23,000원</td>\n",
       "    </tr>\n",
       "  </tbody>\n",
       "</table>\n",
       "</div>"
      ],
      "text/plain": [
       "                                 title         writer    price\n",
       "0                           처음 배우는 매트랩            방성완  30,000원\n",
       "1       SAS와 메타분석을 활용한 한번에 적용하는 의학보건통계  히든그레이스 데이터분석팀  34,000원\n",
       "2                          정보교과교육론(3판)      최현종 , 전용주  30,000원\n",
       "3  IT CookBook, 기초전자실험 with PSpice(3판)            홍순관  22,000원\n",
       "4                          경제수학 강의(3판)            김성현  23,000원"
      ]
     },
     "execution_count": 44,
     "metadata": {},
     "output_type": "execute_result"
    }
   ],
   "source": [
    "line = []\n",
    "for li in lis:\n",
    "    title = li.select_one('.info > .book_tit').get_text()\n",
    "    writer = li.select_one('.info > .book_writer').get_text().strip()\n",
    "    price = li.select_one('.img_hidden_a > .price').get_text()\n",
    "    line.append({'title': title, 'writer': writer, 'price': price})\n",
    "h = pd.DataFrame(line)\n",
    "h.head()"
   ]
  },
  {
   "attachments": {},
   "cell_type": "markdown",
   "metadata": {},
   "source": [
    "##### 5. 에러 처리"
   ]
  },
  {
   "attachments": {},
   "cell_type": "markdown",
   "metadata": {},
   "source": [
    "##### 6. 모든 페이지에 대해서 처리하기"
   ]
  },
  {
   "cell_type": "code",
   "execution_count": 45,
   "metadata": {},
   "outputs": [
    {
     "name": "stderr",
     "output_type": "stream",
     "text": [
      "100%|██████████| 23/23 [00:11<00:00,  2.07it/s]\n"
     ]
    }
   ],
   "source": [
    "lines = []\n",
    "base_url = 'https://www.hanbit.co.kr/academy/books/new_book_list.html'\n",
    "for pg in tqdm(range(1, 24)):\n",
    "    url = f'{base_url}?page={pg}&cate_cd=&srt=&searchKey=&keyWord='\n",
    "    result = requests.get(url)\n",
    "    soup = BeautifulSoup(result.text, 'html.parser')\n",
    "    lis = soup.select('li.sub_book_list')\n",
    "    for li in lis:\n",
    "        title = li.select_one('.info > .book_tit').get_text()\n",
    "        writer = li.select_one('.info > .book_writer').get_text().strip()\n",
    "        price = li.select_one('.img_hidden_a > .price').get_text()\n",
    "        lines.append({'title': title, 'writer': writer, 'price': price})"
   ]
  },
  {
   "cell_type": "code",
   "execution_count": 46,
   "metadata": {},
   "outputs": [
    {
     "data": {
      "text/html": [
       "<div>\n",
       "<style scoped>\n",
       "    .dataframe tbody tr th:only-of-type {\n",
       "        vertical-align: middle;\n",
       "    }\n",
       "\n",
       "    .dataframe tbody tr th {\n",
       "        vertical-align: top;\n",
       "    }\n",
       "\n",
       "    .dataframe thead th {\n",
       "        text-align: right;\n",
       "    }\n",
       "</style>\n",
       "<table border=\"1\" class=\"dataframe\">\n",
       "  <thead>\n",
       "    <tr style=\"text-align: right;\">\n",
       "      <th></th>\n",
       "      <th>title</th>\n",
       "      <th>writer</th>\n",
       "      <th>price</th>\n",
       "    </tr>\n",
       "  </thead>\n",
       "  <tbody>\n",
       "    <tr>\n",
       "      <th>0</th>\n",
       "      <td>처음 배우는 매트랩</td>\n",
       "      <td>방성완</td>\n",
       "      <td>30,000원</td>\n",
       "    </tr>\n",
       "    <tr>\n",
       "      <th>1</th>\n",
       "      <td>SAS와 메타분석을 활용한 한번에 적용하는 의학보건통계</td>\n",
       "      <td>히든그레이스 데이터분석팀</td>\n",
       "      <td>34,000원</td>\n",
       "    </tr>\n",
       "    <tr>\n",
       "      <th>2</th>\n",
       "      <td>정보교과교육론(3판)</td>\n",
       "      <td>최현종 , 전용주</td>\n",
       "      <td>30,000원</td>\n",
       "    </tr>\n",
       "    <tr>\n",
       "      <th>3</th>\n",
       "      <td>IT CookBook, 기초전자실험 with PSpice(3판)</td>\n",
       "      <td>홍순관</td>\n",
       "      <td>22,000원</td>\n",
       "    </tr>\n",
       "    <tr>\n",
       "      <th>4</th>\n",
       "      <td>경제수학 강의(3판)</td>\n",
       "      <td>김성현</td>\n",
       "      <td>23,000원</td>\n",
       "    </tr>\n",
       "    <tr>\n",
       "      <th>5</th>\n",
       "      <td>글로벌 사회와 리더십(2판)</td>\n",
       "      <td>안광현</td>\n",
       "      <td>28,000원</td>\n",
       "    </tr>\n",
       "    <tr>\n",
       "      <th>6</th>\n",
       "      <td>행동 재무론</td>\n",
       "      <td>고광수</td>\n",
       "      <td>32,000원</td>\n",
       "    </tr>\n",
       "    <tr>\n",
       "      <th>7</th>\n",
       "      <td>IT CookBook, 알기 쉽게 해설한 파이썬 with 컴퓨팅 사고력</td>\n",
       "      <td>김충석 , 김지연</td>\n",
       "      <td>24,000원</td>\n",
       "    </tr>\n",
       "    <tr>\n",
       "      <th>8</th>\n",
       "      <td>MATLAB으로 배우는 공학 수치해석(3판)</td>\n",
       "      <td>방성완</td>\n",
       "      <td>28,000원</td>\n",
       "    </tr>\n",
       "    <tr>\n",
       "      <th>9</th>\n",
       "      <td>Cengel의 알기 쉬운 열역학(6판)</td>\n",
       "      <td>Yunus A. Çengel , John M. Cimbala , Afshin J. ...</td>\n",
       "      <td>34,000원</td>\n",
       "    </tr>\n",
       "    <tr>\n",
       "      <th>10</th>\n",
       "      <td>Cengel의 알기 쉬운 열전달(6판)</td>\n",
       "      <td>Yunus A. Çengel , John M. Cimbala , Afshin J. ...</td>\n",
       "      <td>34,000원</td>\n",
       "    </tr>\n",
       "    <tr>\n",
       "      <th>11</th>\n",
       "      <td>IT CookBook, 알기 쉽게 해설한 자바 프로그래밍(10판)</td>\n",
       "      <td>김충석</td>\n",
       "      <td>30,000원</td>\n",
       "    </tr>\n",
       "    <tr>\n",
       "      <th>12</th>\n",
       "      <td>IT CookBook, 비즈니스 애널리틱스를 위한 데이터 마이닝</td>\n",
       "      <td>Galit Shmueli , Peter C. Bruce , Peter Gedeck ...</td>\n",
       "      <td>39,000원</td>\n",
       "    </tr>\n",
       "    <tr>\n",
       "      <th>13</th>\n",
       "      <td>현대경영과학(9판)</td>\n",
       "      <td>김세헌</td>\n",
       "      <td>35,000원</td>\n",
       "    </tr>\n",
       "    <tr>\n",
       "      <th>14</th>\n",
       "      <td>IT CookBook, 네트워크 해킹과 보안(4판)</td>\n",
       "      <td>양대일 , 홍성혁</td>\n",
       "      <td>32,000원</td>\n",
       "    </tr>\n",
       "    <tr>\n",
       "      <th>15</th>\n",
       "      <td>IT CookBook, 쉽게 배우는 운영체제(2판)</td>\n",
       "      <td>조성호</td>\n",
       "      <td>32,000원</td>\n",
       "    </tr>\n",
       "    <tr>\n",
       "      <th>16</th>\n",
       "      <td>IT CookBook, Android Studio를 활용한 안드로이드 프로그래밍(8판)</td>\n",
       "      <td>우재남 , 박길식</td>\n",
       "      <td>34,000원</td>\n",
       "    </tr>\n",
       "    <tr>\n",
       "      <th>17</th>\n",
       "      <td>STEM CookBook, 전기 및 하이브리드 자동차(3판)</td>\n",
       "      <td>Iqbal Husain</td>\n",
       "      <td>35,000원</td>\n",
       "    </tr>\n",
       "    <tr>\n",
       "      <th>18</th>\n",
       "      <td>IT CookBook, 컴퓨터 비전과 딥러닝</td>\n",
       "      <td>오일석</td>\n",
       "      <td>39,000원</td>\n",
       "    </tr>\n",
       "    <tr>\n",
       "      <th>19</th>\n",
       "      <td>리더십 : 이론과 실제 (9판)</td>\n",
       "      <td>Peter G. Northouse</td>\n",
       "      <td>36,000원</td>\n",
       "    </tr>\n",
       "  </tbody>\n",
       "</table>\n",
       "</div>"
      ],
      "text/plain": [
       "                                               title   \n",
       "0                                         처음 배우는 매트랩  \\\n",
       "1                     SAS와 메타분석을 활용한 한번에 적용하는 의학보건통계   \n",
       "2                                        정보교과교육론(3판)   \n",
       "3                IT CookBook, 기초전자실험 with PSpice(3판)   \n",
       "4                                        경제수학 강의(3판)   \n",
       "5                                    글로벌 사회와 리더십(2판)   \n",
       "6                                             행동 재무론   \n",
       "7            IT CookBook, 알기 쉽게 해설한 파이썬 with 컴퓨팅 사고력   \n",
       "8                           MATLAB으로 배우는 공학 수치해석(3판)   \n",
       "9                              Cengel의 알기 쉬운 열역학(6판)   \n",
       "10                             Cengel의 알기 쉬운 열전달(6판)   \n",
       "11              IT CookBook, 알기 쉽게 해설한 자바 프로그래밍(10판)   \n",
       "12               IT CookBook, 비즈니스 애널리틱스를 위한 데이터 마이닝   \n",
       "13                                        현대경영과학(9판)   \n",
       "14                      IT CookBook, 네트워크 해킹과 보안(4판)   \n",
       "15                      IT CookBook, 쉽게 배우는 운영체제(2판)   \n",
       "16  IT CookBook, Android Studio를 활용한 안드로이드 프로그래밍(8판)   \n",
       "17                 STEM CookBook, 전기 및 하이브리드 자동차(3판)   \n",
       "18                          IT CookBook, 컴퓨터 비전과 딥러닝   \n",
       "19                                 리더십 : 이론과 실제 (9판)   \n",
       "\n",
       "                                               writer    price  \n",
       "0                                                 방성완  30,000원  \n",
       "1                                       히든그레이스 데이터분석팀  34,000원  \n",
       "2                                           최현종 , 전용주  30,000원  \n",
       "3                                                 홍순관  22,000원  \n",
       "4                                                 김성현  23,000원  \n",
       "5                                                 안광현  28,000원  \n",
       "6                                                 고광수  32,000원  \n",
       "7                                           김충석 , 김지연  24,000원  \n",
       "8                                                 방성완  28,000원  \n",
       "9   Yunus A. Çengel , John M. Cimbala , Afshin J. ...  34,000원  \n",
       "10  Yunus A. Çengel , John M. Cimbala , Afshin J. ...  34,000원  \n",
       "11                                                김충석  30,000원  \n",
       "12  Galit Shmueli , Peter C. Bruce , Peter Gedeck ...  39,000원  \n",
       "13                                                김세헌  35,000원  \n",
       "14                                          양대일 , 홍성혁  32,000원  \n",
       "15                                                조성호  32,000원  \n",
       "16                                          우재남 , 박길식  34,000원  \n",
       "17                                       Iqbal Husain  35,000원  \n",
       "18                                                오일석  39,000원  \n",
       "19                                 Peter G. Northouse  36,000원  "
      ]
     },
     "execution_count": 46,
     "metadata": {},
     "output_type": "execute_result"
    }
   ],
   "source": [
    "hanbit = pd.DataFrame(lines)\n",
    "hanbit.head(20)"
   ]
  },
  {
   "cell_type": "code",
   "execution_count": 47,
   "metadata": {},
   "outputs": [
    {
     "data": {
      "text/html": [
       "<div>\n",
       "<style scoped>\n",
       "    .dataframe tbody tr th:only-of-type {\n",
       "        vertical-align: middle;\n",
       "    }\n",
       "\n",
       "    .dataframe tbody tr th {\n",
       "        vertical-align: top;\n",
       "    }\n",
       "\n",
       "    .dataframe thead th {\n",
       "        text-align: right;\n",
       "    }\n",
       "</style>\n",
       "<table border=\"1\" class=\"dataframe\">\n",
       "  <thead>\n",
       "    <tr style=\"text-align: right;\">\n",
       "      <th></th>\n",
       "      <th>title</th>\n",
       "      <th>writer</th>\n",
       "      <th>price</th>\n",
       "    </tr>\n",
       "  </thead>\n",
       "  <tbody>\n",
       "    <tr>\n",
       "      <th>0</th>\n",
       "      <td>처음 배우는 매트랩</td>\n",
       "      <td>방성완</td>\n",
       "      <td>30,000원</td>\n",
       "    </tr>\n",
       "    <tr>\n",
       "      <th>1</th>\n",
       "      <td>SAS와 메타분석을 활용한 한번에 적용하는 의학보건통계</td>\n",
       "      <td>히든그레이스 데이터분석팀</td>\n",
       "      <td>34,000원</td>\n",
       "    </tr>\n",
       "    <tr>\n",
       "      <th>2</th>\n",
       "      <td>정보교과교육론(3판)</td>\n",
       "      <td>최현종 , 전용주</td>\n",
       "      <td>30,000원</td>\n",
       "    </tr>\n",
       "    <tr>\n",
       "      <th>3</th>\n",
       "      <td>IT CookBook, 기초전자실험 with PSpice(3판)</td>\n",
       "      <td>홍순관</td>\n",
       "      <td>22,000원</td>\n",
       "    </tr>\n",
       "    <tr>\n",
       "      <th>4</th>\n",
       "      <td>경제수학 강의(3판)</td>\n",
       "      <td>김성현</td>\n",
       "      <td>23,000원</td>\n",
       "    </tr>\n",
       "    <tr>\n",
       "      <th>...</th>\n",
       "      <td>...</td>\n",
       "      <td>...</td>\n",
       "      <td>...</td>\n",
       "    </tr>\n",
       "    <tr>\n",
       "      <th>448</th>\n",
       "      <td>문제해결력을 키우는 이공계 글쓰기 : 발표와 토론까지</td>\n",
       "      <td>한성우</td>\n",
       "      <td>18,000원</td>\n",
       "    </tr>\n",
       "    <tr>\n",
       "      <th>449</th>\n",
       "      <td>Essential Calculus</td>\n",
       "      <td>James Stewart</td>\n",
       "      <td>36,000원</td>\n",
       "    </tr>\n",
       "    <tr>\n",
       "      <th>450</th>\n",
       "      <td>의사결정회계</td>\n",
       "      <td>정재권</td>\n",
       "      <td>28,000원</td>\n",
       "    </tr>\n",
       "    <tr>\n",
       "      <th>451</th>\n",
       "      <td>IT CookBook, 디지털 통신 시스템 : Digital Communicatio...</td>\n",
       "      <td>정호영 , 임승각</td>\n",
       "      <td>25,000원</td>\n",
       "    </tr>\n",
       "    <tr>\n",
       "      <th>452</th>\n",
       "      <td>인간관계론</td>\n",
       "      <td>유기현 , 송병선 , 권용만</td>\n",
       "      <td>25,000원</td>\n",
       "    </tr>\n",
       "  </tbody>\n",
       "</table>\n",
       "<p>453 rows × 3 columns</p>\n",
       "</div>"
      ],
      "text/plain": [
       "                                                 title           writer   \n",
       "0                                           처음 배우는 매트랩              방성완  \\\n",
       "1                       SAS와 메타분석을 활용한 한번에 적용하는 의학보건통계    히든그레이스 데이터분석팀   \n",
       "2                                          정보교과교육론(3판)        최현종 , 전용주   \n",
       "3                  IT CookBook, 기초전자실험 with PSpice(3판)              홍순관   \n",
       "4                                          경제수학 강의(3판)              김성현   \n",
       "..                                                 ...              ...   \n",
       "448                      문제해결력을 키우는 이공계 글쓰기 : 발표와 토론까지              한성우   \n",
       "449                                 Essential Calculus    James Stewart   \n",
       "450                                             의사결정회계              정재권   \n",
       "451  IT CookBook, 디지털 통신 시스템 : Digital Communicatio...        정호영 , 임승각   \n",
       "452                                              인간관계론  유기현 , 송병선 , 권용만   \n",
       "\n",
       "       price  \n",
       "0    30,000원  \n",
       "1    34,000원  \n",
       "2    30,000원  \n",
       "3    22,000원  \n",
       "4    23,000원  \n",
       "..       ...  \n",
       "448  18,000원  \n",
       "449  36,000원  \n",
       "450  28,000원  \n",
       "451  25,000원  \n",
       "452  25,000원  \n",
       "\n",
       "[453 rows x 3 columns]"
      ]
     },
     "execution_count": 47,
     "metadata": {},
     "output_type": "execute_result"
    }
   ],
   "source": [
    "hanbit.to_csv('data/한빛아카데미_새로나온책.csv', index=False)\n",
    "pd.read_csv('data/한빛아카데미_새로나온책.csv')"
   ]
  },
  {
   "attachments": {},
   "cell_type": "markdown",
   "metadata": {},
   "source": [
    "### Another Answer"
   ]
  },
  {
   "attachments": {},
   "cell_type": "markdown",
   "metadata": {},
   "source": [
    "- https://www.hanbit.co.kr/academy/books/new_book_list.html?page=1 (메인)\n",
    "- https://www.hanbit.co.kr/academy/books/book_view.html?p_code=B7192437175 (서브)\n",
    "- location='/academy/books/book_view.html?p_code=B7192437175' (알 수 있는 정보)\n",
    "- 제목, 저자, 출간일, 쪽수, 가격, 역자"
   ]
  },
  {
   "cell_type": "code",
   "execution_count": 48,
   "metadata": {},
   "outputs": [],
   "source": [
    "base_url = 'https://www.hanbit.co.kr'\n",
    "main_url = '/academy/books/new_book_list.html'\n",
    "url = f'{base_url}{main_url}?page=1'\n",
    "result = requests.get(url)\n",
    "soup = BeautifulSoup(result.text)"
   ]
  },
  {
   "cell_type": "code",
   "execution_count": 49,
   "metadata": {},
   "outputs": [
    {
     "data": {
      "text/plain": [
       "20"
      ]
     },
     "execution_count": 49,
     "metadata": {},
     "output_type": "execute_result"
    }
   ],
   "source": [
    "lis = soup.select('li.sub_book_list')\n",
    "len(lis)"
   ]
  },
  {
   "cell_type": "code",
   "execution_count": 50,
   "metadata": {},
   "outputs": [],
   "source": [
    "li = lis[0]"
   ]
  },
  {
   "cell_type": "code",
   "execution_count": 51,
   "metadata": {},
   "outputs": [
    {
     "data": {
      "text/plain": [
       "\"location='/academy/books/book_view.html?p_code=B7192437175'\""
      ]
     },
     "execution_count": 51,
     "metadata": {},
     "output_type": "execute_result"
    }
   ],
   "source": [
    "href = li.select_one('.pop_quick_bg')['onclick']\n",
    "href"
   ]
  },
  {
   "cell_type": "code",
   "execution_count": 52,
   "metadata": {},
   "outputs": [
    {
     "data": {
      "text/plain": [
       "'/academy/books/book_view.html?p_code=B7192437175'"
      ]
     },
     "execution_count": 52,
     "metadata": {},
     "output_type": "execute_result"
    }
   ],
   "source": [
    "href = href[10:-1]\n",
    "href"
   ]
  },
  {
   "cell_type": "code",
   "execution_count": 53,
   "metadata": {},
   "outputs": [],
   "source": [
    "sub_url = f'{base_url}{href}'\n",
    "res = requests.get(sub_url)\n",
    "book_soup = BeautifulSoup(res.text)"
   ]
  },
  {
   "cell_type": "code",
   "execution_count": 54,
   "metadata": {},
   "outputs": [
    {
     "data": {
      "text/plain": [
       "'처음 배우는 매트랩'"
      ]
     },
     "execution_count": 54,
     "metadata": {},
     "output_type": "execute_result"
    }
   ],
   "source": [
    "# 제목\n",
    "info = book_soup.select_one('.store_product_info_box')\n",
    "title = info.find('h3').text.strip()\n",
    "title"
   ]
  },
  {
   "cell_type": "code",
   "execution_count": 55,
   "metadata": {},
   "outputs": [
    {
     "data": {
      "text/plain": [
       "'방성완'"
      ]
     },
     "execution_count": 55,
     "metadata": {},
     "output_type": "execute_result"
    }
   ],
   "source": [
    "# 저자\n",
    "book_lis = info.select('.info_list > li')\n",
    "author = ', '.join(book_lis[0].find('span').get_text().strip().split(' , '))\n",
    "author"
   ]
  },
  {
   "cell_type": "code",
   "execution_count": 56,
   "metadata": {},
   "outputs": [
    {
     "data": {
      "text/plain": [
       "'-'"
      ]
     },
     "execution_count": 56,
     "metadata": {},
     "output_type": "execute_result"
    }
   ],
   "source": [
    "# 역자\n",
    "if len(book_lis) == 5:\n",
    "    translator = '-'\n",
    "else:\n",
    "    translator = ', '.join(book_lis[1].find('span').get_text().strip().split(' , '))\n",
    "translator"
   ]
  },
  {
   "cell_type": "code",
   "execution_count": 57,
   "metadata": {},
   "outputs": [
    {
     "data": {
      "text/plain": [
       "'2023-04-10'"
      ]
     },
     "execution_count": 57,
     "metadata": {},
     "output_type": "execute_result"
    }
   ],
   "source": [
    "# 출간일\n",
    "date = book_lis[-4].find('span').get_text().strip()\n",
    "date"
   ]
  },
  {
   "cell_type": "code",
   "execution_count": 58,
   "metadata": {},
   "outputs": [
    {
     "data": {
      "text/plain": [
       "416"
      ]
     },
     "execution_count": 58,
     "metadata": {},
     "output_type": "execute_result"
    }
   ],
   "source": [
    "# 페이지\n",
    "page = int(book_lis[-3].find('span').get_text().strip()[:-2])\n",
    "page"
   ]
  },
  {
   "cell_type": "code",
   "execution_count": 59,
   "metadata": {},
   "outputs": [
    {
     "data": {
      "text/plain": [
       "'30,000'"
      ]
     },
     "execution_count": 59,
     "metadata": {},
     "output_type": "execute_result"
    }
   ],
   "source": [
    "# 가격\n",
    "payments = book_soup.select_one('.payment_box.curr').find_all('p')\n",
    "sales = payments[1].select_one('.pbr').find('strong').get_text().strip()\n",
    "sales"
   ]
  },
  {
   "cell_type": "code",
   "execution_count": 60,
   "metadata": {},
   "outputs": [],
   "source": [
    "lines = []\n",
    "for li in lis:\n",
    "    href = li.select_one('.pop_quick_bg')['onclick'][10:-1]\n",
    "    res = requests.get(base_url + href)\n",
    "    book_soup = BeautifulSoup(res.text)\n",
    "    info = book_soup.select_one('.store_product_info_box')\n",
    "    title = info.find('h3').text.strip()\n",
    "    book_lis = info.select('.info_list > li')\n",
    "    author = ', '.join(book_lis[0].find('span').get_text().strip().split(' , '))\n",
    "    if len(book_lis) == 5:\n",
    "        translator = '-'\n",
    "    else:\n",
    "        translator = ', '.join(book_lis[1].find('span').get_text().strip().split(' , '))\n",
    "    date = book_lis[-4].find('span').get_text().strip()\n",
    "    page = int(book_lis[-3].find('span').get_text().strip()[:-2])\n",
    "    payments = book_soup.select_one('.payment_box.curr').find_all('p')\n",
    "    sales = payments[1].select_one('.pbr').find('strong').get_text().strip()\n",
    "    lines.append({\n",
    "        '제목': title, '저자': author, '역자': translator, '출간일': date, '페이지수': page, '판매가': sales\n",
    "    })"
   ]
  },
  {
   "cell_type": "code",
   "execution_count": 61,
   "metadata": {},
   "outputs": [
    {
     "data": {
      "text/html": [
       "<div>\n",
       "<style scoped>\n",
       "    .dataframe tbody tr th:only-of-type {\n",
       "        vertical-align: middle;\n",
       "    }\n",
       "\n",
       "    .dataframe tbody tr th {\n",
       "        vertical-align: top;\n",
       "    }\n",
       "\n",
       "    .dataframe thead th {\n",
       "        text-align: right;\n",
       "    }\n",
       "</style>\n",
       "<table border=\"1\" class=\"dataframe\">\n",
       "  <thead>\n",
       "    <tr style=\"text-align: right;\">\n",
       "      <th></th>\n",
       "      <th>제목</th>\n",
       "      <th>저자</th>\n",
       "      <th>역자</th>\n",
       "      <th>출간일</th>\n",
       "      <th>페이지수</th>\n",
       "      <th>판매가</th>\n",
       "    </tr>\n",
       "  </thead>\n",
       "  <tbody>\n",
       "    <tr>\n",
       "      <th>0</th>\n",
       "      <td>처음 배우는 매트랩</td>\n",
       "      <td>방성완</td>\n",
       "      <td>-</td>\n",
       "      <td>2023-04-10</td>\n",
       "      <td>416</td>\n",
       "      <td>30,000</td>\n",
       "    </tr>\n",
       "    <tr>\n",
       "      <th>1</th>\n",
       "      <td>SAS와 메타분석을 활용한 한번에 적용하는 의학보건통계</td>\n",
       "      <td>히든그레이스 데이터분석팀</td>\n",
       "      <td>-</td>\n",
       "      <td>2023-03-09</td>\n",
       "      <td>516</td>\n",
       "      <td>34,000</td>\n",
       "    </tr>\n",
       "    <tr>\n",
       "      <th>2</th>\n",
       "      <td>정보교과교육론(3판)</td>\n",
       "      <td>최현종, 전용주</td>\n",
       "      <td>-</td>\n",
       "      <td>2023-03-01</td>\n",
       "      <td>488</td>\n",
       "      <td>30,000</td>\n",
       "    </tr>\n",
       "    <tr>\n",
       "      <th>3</th>\n",
       "      <td>IT CookBook, 기초전자실험 with PSpice(3판)</td>\n",
       "      <td>홍순관</td>\n",
       "      <td>-</td>\n",
       "      <td>2023-02-28</td>\n",
       "      <td>308</td>\n",
       "      <td>22,000</td>\n",
       "    </tr>\n",
       "    <tr>\n",
       "      <th>4</th>\n",
       "      <td>경제수학 강의(3판)</td>\n",
       "      <td>김성현</td>\n",
       "      <td>-</td>\n",
       "      <td>2023-02-28</td>\n",
       "      <td>464</td>\n",
       "      <td>23,000</td>\n",
       "    </tr>\n",
       "    <tr>\n",
       "      <th>5</th>\n",
       "      <td>글로벌 사회와 리더십(2판)</td>\n",
       "      <td>안광현</td>\n",
       "      <td>-</td>\n",
       "      <td>2023-02-28</td>\n",
       "      <td>416</td>\n",
       "      <td>28,000</td>\n",
       "    </tr>\n",
       "    <tr>\n",
       "      <th>6</th>\n",
       "      <td>행동 재무론</td>\n",
       "      <td>고광수</td>\n",
       "      <td>-</td>\n",
       "      <td>2023-02-28</td>\n",
       "      <td>596</td>\n",
       "      <td>32,000</td>\n",
       "    </tr>\n",
       "    <tr>\n",
       "      <th>7</th>\n",
       "      <td>IT CookBook, 알기 쉽게 해설한 파이썬 with 컴퓨팅 사고력</td>\n",
       "      <td>김충석, 김지연</td>\n",
       "      <td>-</td>\n",
       "      <td>2023-02-24</td>\n",
       "      <td>328</td>\n",
       "      <td>24,000</td>\n",
       "    </tr>\n",
       "    <tr>\n",
       "      <th>8</th>\n",
       "      <td>MATLAB으로 배우는 공학 수치해석(3판)</td>\n",
       "      <td>방성완</td>\n",
       "      <td>2023-02-20</td>\n",
       "      <td>360 쪽</td>\n",
       "      <td>97911566463</td>\n",
       "      <td>28,000</td>\n",
       "    </tr>\n",
       "    <tr>\n",
       "      <th>9</th>\n",
       "      <td>Cengel의 알기 쉬운 열역학(6판)</td>\n",
       "      <td>Yunus A. Çengel, John M. Cimbala, Afshin J. Gh...</td>\n",
       "      <td>김택영, 한진호, 김덕종, 김우태, 이무연, 전문수</td>\n",
       "      <td>2023-02-17</td>\n",
       "      <td>528</td>\n",
       "      <td>34,000</td>\n",
       "    </tr>\n",
       "    <tr>\n",
       "      <th>10</th>\n",
       "      <td>Cengel의 알기 쉬운 열전달(6판)</td>\n",
       "      <td>Yunus A. Çengel, John M. Cimbala, Afshin J. Gh...</td>\n",
       "      <td>김택영, 김덕종, 김중배, 김혜민, 성연모, 이무연</td>\n",
       "      <td>2023-02-17</td>\n",
       "      <td>520</td>\n",
       "      <td>34,000</td>\n",
       "    </tr>\n",
       "    <tr>\n",
       "      <th>11</th>\n",
       "      <td>IT CookBook, 알기 쉽게 해설한 자바 프로그래밍(10판)</td>\n",
       "      <td>김충석</td>\n",
       "      <td>-</td>\n",
       "      <td>2023-02-12</td>\n",
       "      <td>780</td>\n",
       "      <td>30,000</td>\n",
       "    </tr>\n",
       "    <tr>\n",
       "      <th>12</th>\n",
       "      <td>IT CookBook, 비즈니스 애널리틱스를 위한 데이터 마이닝</td>\n",
       "      <td>Galit Shmueli, Peter C. Bruce, Peter Gedeck, N...</td>\n",
       "      <td>조성준, 조재희, 조성배, 이성임, 신현정, 김성범</td>\n",
       "      <td>2023-02-10</td>\n",
       "      <td>592</td>\n",
       "      <td>39,000</td>\n",
       "    </tr>\n",
       "    <tr>\n",
       "      <th>13</th>\n",
       "      <td>현대경영과학(9판)</td>\n",
       "      <td>김세헌</td>\n",
       "      <td>-</td>\n",
       "      <td>2023-01-31</td>\n",
       "      <td>592</td>\n",
       "      <td>35,000</td>\n",
       "    </tr>\n",
       "    <tr>\n",
       "      <th>14</th>\n",
       "      <td>IT CookBook, 네트워크 해킹과 보안(4판)</td>\n",
       "      <td>양대일, 홍성혁</td>\n",
       "      <td>2023-01-30</td>\n",
       "      <td>516 쪽</td>\n",
       "      <td>97911566461</td>\n",
       "      <td>32,000</td>\n",
       "    </tr>\n",
       "    <tr>\n",
       "      <th>15</th>\n",
       "      <td>IT CookBook, 쉽게 배우는 운영체제(2판)</td>\n",
       "      <td>조성호</td>\n",
       "      <td>2023-01-30</td>\n",
       "      <td>616 쪽</td>\n",
       "      <td>97911566463</td>\n",
       "      <td>32,000</td>\n",
       "    </tr>\n",
       "    <tr>\n",
       "      <th>16</th>\n",
       "      <td>IT CookBook, Android Studio를 활용한 안드로이드 프로그래밍(8판)</td>\n",
       "      <td>우재남, 박길식</td>\n",
       "      <td>-</td>\n",
       "      <td>2023-01-13</td>\n",
       "      <td>580</td>\n",
       "      <td>34,000</td>\n",
       "    </tr>\n",
       "    <tr>\n",
       "      <th>17</th>\n",
       "      <td>STEM CookBook, 전기 및 하이브리드 자동차(3판)</td>\n",
       "      <td>Iqbal Husain</td>\n",
       "      <td>임원식, 김정윤, 김기찬, 강동우</td>\n",
       "      <td>2023-01-10</td>\n",
       "      <td>592</td>\n",
       "      <td>35,000</td>\n",
       "    </tr>\n",
       "    <tr>\n",
       "      <th>18</th>\n",
       "      <td>IT CookBook, 컴퓨터 비전과 딥러닝</td>\n",
       "      <td>오일석</td>\n",
       "      <td>-</td>\n",
       "      <td>2023-01-05</td>\n",
       "      <td>664</td>\n",
       "      <td>39,000</td>\n",
       "    </tr>\n",
       "    <tr>\n",
       "      <th>19</th>\n",
       "      <td>리더십 : 이론과 실제 (9판)</td>\n",
       "      <td>Peter G. Northouse</td>\n",
       "      <td>김남현</td>\n",
       "      <td>2023-01-02</td>\n",
       "      <td>660</td>\n",
       "      <td>36,000</td>\n",
       "    </tr>\n",
       "  </tbody>\n",
       "</table>\n",
       "</div>"
      ],
      "text/plain": [
       "                                                  제목   \n",
       "0                                         처음 배우는 매트랩  \\\n",
       "1                     SAS와 메타분석을 활용한 한번에 적용하는 의학보건통계   \n",
       "2                                        정보교과교육론(3판)   \n",
       "3                IT CookBook, 기초전자실험 with PSpice(3판)   \n",
       "4                                        경제수학 강의(3판)   \n",
       "5                                    글로벌 사회와 리더십(2판)   \n",
       "6                                             행동 재무론   \n",
       "7            IT CookBook, 알기 쉽게 해설한 파이썬 with 컴퓨팅 사고력   \n",
       "8                           MATLAB으로 배우는 공학 수치해석(3판)   \n",
       "9                              Cengel의 알기 쉬운 열역학(6판)   \n",
       "10                             Cengel의 알기 쉬운 열전달(6판)   \n",
       "11              IT CookBook, 알기 쉽게 해설한 자바 프로그래밍(10판)   \n",
       "12               IT CookBook, 비즈니스 애널리틱스를 위한 데이터 마이닝   \n",
       "13                                        현대경영과학(9판)   \n",
       "14                      IT CookBook, 네트워크 해킹과 보안(4판)   \n",
       "15                      IT CookBook, 쉽게 배우는 운영체제(2판)   \n",
       "16  IT CookBook, Android Studio를 활용한 안드로이드 프로그래밍(8판)   \n",
       "17                 STEM CookBook, 전기 및 하이브리드 자동차(3판)   \n",
       "18                          IT CookBook, 컴퓨터 비전과 딥러닝   \n",
       "19                                 리더십 : 이론과 실제 (9판)   \n",
       "\n",
       "                                                   저자   \n",
       "0                                                 방성완  \\\n",
       "1                                       히든그레이스 데이터분석팀   \n",
       "2                                            최현종, 전용주   \n",
       "3                                                 홍순관   \n",
       "4                                                 김성현   \n",
       "5                                                 안광현   \n",
       "6                                                 고광수   \n",
       "7                                            김충석, 김지연   \n",
       "8                                                 방성완   \n",
       "9   Yunus A. Çengel, John M. Cimbala, Afshin J. Gh...   \n",
       "10  Yunus A. Çengel, John M. Cimbala, Afshin J. Gh...   \n",
       "11                                                김충석   \n",
       "12  Galit Shmueli, Peter C. Bruce, Peter Gedeck, N...   \n",
       "13                                                김세헌   \n",
       "14                                           양대일, 홍성혁   \n",
       "15                                                조성호   \n",
       "16                                           우재남, 박길식   \n",
       "17                                       Iqbal Husain   \n",
       "18                                                오일석   \n",
       "19                                 Peter G. Northouse   \n",
       "\n",
       "                              역자         출간일         페이지수     판매가  \n",
       "0                              -  2023-04-10          416  30,000  \n",
       "1                              -  2023-03-09          516  34,000  \n",
       "2                              -  2023-03-01          488  30,000  \n",
       "3                              -  2023-02-28          308  22,000  \n",
       "4                              -  2023-02-28          464  23,000  \n",
       "5                              -  2023-02-28          416  28,000  \n",
       "6                              -  2023-02-28          596  32,000  \n",
       "7                              -  2023-02-24          328  24,000  \n",
       "8                     2023-02-20       360 쪽  97911566463  28,000  \n",
       "9   김택영, 한진호, 김덕종, 김우태, 이무연, 전문수  2023-02-17          528  34,000  \n",
       "10  김택영, 김덕종, 김중배, 김혜민, 성연모, 이무연  2023-02-17          520  34,000  \n",
       "11                             -  2023-02-12          780  30,000  \n",
       "12  조성준, 조재희, 조성배, 이성임, 신현정, 김성범  2023-02-10          592  39,000  \n",
       "13                             -  2023-01-31          592  35,000  \n",
       "14                    2023-01-30       516 쪽  97911566461  32,000  \n",
       "15                    2023-01-30       616 쪽  97911566463  32,000  \n",
       "16                             -  2023-01-13          580  34,000  \n",
       "17            임원식, 김정윤, 김기찬, 강동우  2023-01-10          592  35,000  \n",
       "18                             -  2023-01-05          664  39,000  \n",
       "19                           김남현  2023-01-02          660  36,000  "
      ]
     },
     "execution_count": 61,
     "metadata": {},
     "output_type": "execute_result"
    }
   ],
   "source": [
    "df1 = pd.DataFrame(lines)\n",
    "df1"
   ]
  },
  {
   "cell_type": "code",
   "execution_count": 62,
   "metadata": {},
   "outputs": [],
   "source": [
    "# 에러가 발생한 요소\n",
    "li = lis[8]\n",
    "href = li.select_one('.pop_quick_bg')['onclick'][10:-1]\n",
    "res = requests.get(base_url + href)\n",
    "book_soup = BeautifulSoup(res.text)"
   ]
  },
  {
   "cell_type": "code",
   "execution_count": 63,
   "metadata": {},
   "outputs": [
    {
     "name": "stdout",
     "output_type": "stream",
     "text": [
      "저자 : Peter G. Northouse \n",
      "번역 : 김남현 \n",
      "출간 : 2023-01-02\n",
      "페이지 : 660 쪽\n",
      "ISBN : 9791156646419\n",
      "물류코드 :4641\n"
     ]
    }
   ],
   "source": [
    "book_lis = info.select('.info_list > li')\n",
    "for li in book_lis:\n",
    "    print(li.get_text())"
   ]
  },
  {
   "cell_type": "code",
   "execution_count": 64,
   "metadata": {},
   "outputs": [
    {
     "data": {
      "text/plain": [
       "{'저자': 'Peter G. Northouse',\n",
       " '번역': '김남현',\n",
       " '출간': '2023-01-02',\n",
       " '페이지': '660 쪽',\n",
       " 'ISBN': '9791156646419',\n",
       " '물류코드': '4641'}"
      ]
     },
     "execution_count": 64,
     "metadata": {},
     "output_type": "execute_result"
    }
   ],
   "source": [
    "book_dict = {}\n",
    "for li in book_lis:\n",
    "    item = li.get_text().split(':')\n",
    "    book_dict[item[0].strip()] = item[1].strip()\n",
    "book_dict"
   ]
  },
  {
   "cell_type": "code",
   "execution_count": 65,
   "metadata": {},
   "outputs": [
    {
     "data": {
      "text/plain": [
       "'Peter G. Northouse'"
      ]
     },
     "execution_count": 65,
     "metadata": {},
     "output_type": "execute_result"
    }
   ],
   "source": [
    "# author = ', '.join(book_lis[0].find('span').get_text().strip().split(' , '))\n",
    "author = ', '.join(book_dict['저자'].split(' , '))\n",
    "author"
   ]
  },
  {
   "cell_type": "code",
   "execution_count": 66,
   "metadata": {},
   "outputs": [
    {
     "data": {
      "text/plain": [
       "'김남현'"
      ]
     },
     "execution_count": 66,
     "metadata": {},
     "output_type": "execute_result"
    }
   ],
   "source": [
    "# translator\n",
    "if '번역' in book_dict.keys():\n",
    "    translator = ', '.join(book_dict['번역'].split(' , '))\n",
    "else:\n",
    "    translator = '-'\n",
    "translator = ', '.join(book_dict['번역'].split(' , ')) if '번역' in book_dict.keys() else '-'\n",
    "translator"
   ]
  },
  {
   "cell_type": "code",
   "execution_count": 67,
   "metadata": {},
   "outputs": [
    {
     "data": {
      "text/plain": [
       "'2023-01-02'"
      ]
     },
     "execution_count": 67,
     "metadata": {},
     "output_type": "execute_result"
    }
   ],
   "source": [
    "# date = book_lis[-4].find('span').get_text().strip()\n",
    "date = book_dict['출간']\n",
    "date"
   ]
  },
  {
   "cell_type": "code",
   "execution_count": 68,
   "metadata": {},
   "outputs": [
    {
     "data": {
      "text/plain": [
       "660"
      ]
     },
     "execution_count": 68,
     "metadata": {},
     "output_type": "execute_result"
    }
   ],
   "source": [
    "# page = int(book_lis[-3].find('span').get_text().strip()[:-2])\n",
    "page = int(book_dict['페이지'][:-2])\n",
    "page"
   ]
  },
  {
   "cell_type": "code",
   "execution_count": 69,
   "metadata": {},
   "outputs": [],
   "source": [
    "lines = []\n",
    "for li in lis:\n",
    "    href = li.select_one('.pop_quick_bg')['onclick'][10:-1]\n",
    "    res = requests.get(base_url + href)\n",
    "    book_soup = BeautifulSoup(res.text)\n",
    "    info = book_soup.select_one('.store_product_info_box')\n",
    "    title = info.find('h3').text.strip()\n",
    "    book_lis = info.select('.info_list > li')\n",
    "    book_dict = {}\n",
    "    for li in book_lis:\n",
    "        item = li.get_text().split(':')\n",
    "        book_dict[item[0].strip()] = item[1].strip()\n",
    "    author = ', '.join(book_dict['저자'].split(' , '))\n",
    "    translator = ', '.join(book_dict['번역'].split(' , ')) if '번역' in book_dict.keys() else '-'\n",
    "    date = book_dict['출간']\n",
    "    page = int(book_dict['페이지'][:-2])\n",
    "    payments = book_soup.select_one('.payment_box.curr').find_all('p')\n",
    "    sales = payments[1].select_one('.pbr').find('strong').get_text().strip()\n",
    "    lines.append({\n",
    "        '제목':title, '저자':author, '역자':translator,\n",
    "        '출간일':date, '페이지수':page, '판매가':sales\n",
    "    })"
   ]
  },
  {
   "cell_type": "code",
   "execution_count": 70,
   "metadata": {},
   "outputs": [
    {
     "data": {
      "text/html": [
       "<div>\n",
       "<style scoped>\n",
       "    .dataframe tbody tr th:only-of-type {\n",
       "        vertical-align: middle;\n",
       "    }\n",
       "\n",
       "    .dataframe tbody tr th {\n",
       "        vertical-align: top;\n",
       "    }\n",
       "\n",
       "    .dataframe thead th {\n",
       "        text-align: right;\n",
       "    }\n",
       "</style>\n",
       "<table border=\"1\" class=\"dataframe\">\n",
       "  <thead>\n",
       "    <tr style=\"text-align: right;\">\n",
       "      <th></th>\n",
       "      <th>제목</th>\n",
       "      <th>저자</th>\n",
       "      <th>역자</th>\n",
       "      <th>출간일</th>\n",
       "      <th>페이지수</th>\n",
       "      <th>판매가</th>\n",
       "    </tr>\n",
       "  </thead>\n",
       "  <tbody>\n",
       "    <tr>\n",
       "      <th>0</th>\n",
       "      <td>처음 배우는 매트랩</td>\n",
       "      <td>방성완</td>\n",
       "      <td>-</td>\n",
       "      <td>2023-04-10</td>\n",
       "      <td>416</td>\n",
       "      <td>30,000</td>\n",
       "    </tr>\n",
       "    <tr>\n",
       "      <th>1</th>\n",
       "      <td>SAS와 메타분석을 활용한 한번에 적용하는 의학보건통계</td>\n",
       "      <td>히든그레이스 데이터분석팀</td>\n",
       "      <td>-</td>\n",
       "      <td>2023-03-09</td>\n",
       "      <td>516</td>\n",
       "      <td>34,000</td>\n",
       "    </tr>\n",
       "    <tr>\n",
       "      <th>2</th>\n",
       "      <td>정보교과교육론(3판)</td>\n",
       "      <td>최현종, 전용주</td>\n",
       "      <td>-</td>\n",
       "      <td>2023-03-01</td>\n",
       "      <td>488</td>\n",
       "      <td>30,000</td>\n",
       "    </tr>\n",
       "    <tr>\n",
       "      <th>3</th>\n",
       "      <td>IT CookBook, 기초전자실험 with PSpice(3판)</td>\n",
       "      <td>홍순관</td>\n",
       "      <td>-</td>\n",
       "      <td>2023-02-28</td>\n",
       "      <td>308</td>\n",
       "      <td>22,000</td>\n",
       "    </tr>\n",
       "    <tr>\n",
       "      <th>4</th>\n",
       "      <td>경제수학 강의(3판)</td>\n",
       "      <td>김성현</td>\n",
       "      <td>-</td>\n",
       "      <td>2023-02-28</td>\n",
       "      <td>464</td>\n",
       "      <td>23,000</td>\n",
       "    </tr>\n",
       "    <tr>\n",
       "      <th>5</th>\n",
       "      <td>글로벌 사회와 리더십(2판)</td>\n",
       "      <td>안광현</td>\n",
       "      <td>-</td>\n",
       "      <td>2023-02-28</td>\n",
       "      <td>416</td>\n",
       "      <td>28,000</td>\n",
       "    </tr>\n",
       "    <tr>\n",
       "      <th>6</th>\n",
       "      <td>행동 재무론</td>\n",
       "      <td>고광수</td>\n",
       "      <td>-</td>\n",
       "      <td>2023-02-28</td>\n",
       "      <td>596</td>\n",
       "      <td>32,000</td>\n",
       "    </tr>\n",
       "    <tr>\n",
       "      <th>7</th>\n",
       "      <td>IT CookBook, 알기 쉽게 해설한 파이썬 with 컴퓨팅 사고력</td>\n",
       "      <td>김충석, 김지연</td>\n",
       "      <td>-</td>\n",
       "      <td>2023-02-24</td>\n",
       "      <td>328</td>\n",
       "      <td>24,000</td>\n",
       "    </tr>\n",
       "    <tr>\n",
       "      <th>8</th>\n",
       "      <td>MATLAB으로 배우는 공학 수치해석(3판)</td>\n",
       "      <td>방성완</td>\n",
       "      <td>-</td>\n",
       "      <td>2023-02-20</td>\n",
       "      <td>360</td>\n",
       "      <td>28,000</td>\n",
       "    </tr>\n",
       "    <tr>\n",
       "      <th>9</th>\n",
       "      <td>Cengel의 알기 쉬운 열역학(6판)</td>\n",
       "      <td>Yunus A. Çengel, John M. Cimbala, Afshin J. Gh...</td>\n",
       "      <td>김택영, 한진호, 김덕종, 김우태, 이무연, 전문수</td>\n",
       "      <td>2023-02-17</td>\n",
       "      <td>528</td>\n",
       "      <td>34,000</td>\n",
       "    </tr>\n",
       "    <tr>\n",
       "      <th>10</th>\n",
       "      <td>Cengel의 알기 쉬운 열전달(6판)</td>\n",
       "      <td>Yunus A. Çengel, John M. Cimbala, Afshin J. Gh...</td>\n",
       "      <td>김택영, 김덕종, 김중배, 김혜민, 성연모, 이무연</td>\n",
       "      <td>2023-02-17</td>\n",
       "      <td>520</td>\n",
       "      <td>34,000</td>\n",
       "    </tr>\n",
       "    <tr>\n",
       "      <th>11</th>\n",
       "      <td>IT CookBook, 알기 쉽게 해설한 자바 프로그래밍(10판)</td>\n",
       "      <td>김충석</td>\n",
       "      <td>-</td>\n",
       "      <td>2023-02-12</td>\n",
       "      <td>780</td>\n",
       "      <td>30,000</td>\n",
       "    </tr>\n",
       "    <tr>\n",
       "      <th>12</th>\n",
       "      <td>IT CookBook, 비즈니스 애널리틱스를 위한 데이터 마이닝</td>\n",
       "      <td>Galit Shmueli, Peter C. Bruce, Peter Gedeck, N...</td>\n",
       "      <td>조성준, 조재희, 조성배, 이성임, 신현정, 김성범</td>\n",
       "      <td>2023-02-10</td>\n",
       "      <td>592</td>\n",
       "      <td>39,000</td>\n",
       "    </tr>\n",
       "    <tr>\n",
       "      <th>13</th>\n",
       "      <td>현대경영과학(9판)</td>\n",
       "      <td>김세헌</td>\n",
       "      <td>-</td>\n",
       "      <td>2023-01-31</td>\n",
       "      <td>592</td>\n",
       "      <td>35,000</td>\n",
       "    </tr>\n",
       "    <tr>\n",
       "      <th>14</th>\n",
       "      <td>IT CookBook, 네트워크 해킹과 보안(4판)</td>\n",
       "      <td>양대일, 홍성혁</td>\n",
       "      <td>-</td>\n",
       "      <td>2023-01-30</td>\n",
       "      <td>516</td>\n",
       "      <td>32,000</td>\n",
       "    </tr>\n",
       "    <tr>\n",
       "      <th>15</th>\n",
       "      <td>IT CookBook, 쉽게 배우는 운영체제(2판)</td>\n",
       "      <td>조성호</td>\n",
       "      <td>-</td>\n",
       "      <td>2023-01-30</td>\n",
       "      <td>616</td>\n",
       "      <td>32,000</td>\n",
       "    </tr>\n",
       "    <tr>\n",
       "      <th>16</th>\n",
       "      <td>IT CookBook, Android Studio를 활용한 안드로이드 프로그래밍(8판)</td>\n",
       "      <td>우재남, 박길식</td>\n",
       "      <td>-</td>\n",
       "      <td>2023-01-13</td>\n",
       "      <td>580</td>\n",
       "      <td>34,000</td>\n",
       "    </tr>\n",
       "    <tr>\n",
       "      <th>17</th>\n",
       "      <td>STEM CookBook, 전기 및 하이브리드 자동차(3판)</td>\n",
       "      <td>Iqbal Husain</td>\n",
       "      <td>임원식, 김정윤, 김기찬, 강동우</td>\n",
       "      <td>2023-01-10</td>\n",
       "      <td>592</td>\n",
       "      <td>35,000</td>\n",
       "    </tr>\n",
       "    <tr>\n",
       "      <th>18</th>\n",
       "      <td>IT CookBook, 컴퓨터 비전과 딥러닝</td>\n",
       "      <td>오일석</td>\n",
       "      <td>-</td>\n",
       "      <td>2023-01-05</td>\n",
       "      <td>664</td>\n",
       "      <td>39,000</td>\n",
       "    </tr>\n",
       "    <tr>\n",
       "      <th>19</th>\n",
       "      <td>리더십 : 이론과 실제 (9판)</td>\n",
       "      <td>Peter G. Northouse</td>\n",
       "      <td>김남현</td>\n",
       "      <td>2023-01-02</td>\n",
       "      <td>660</td>\n",
       "      <td>36,000</td>\n",
       "    </tr>\n",
       "  </tbody>\n",
       "</table>\n",
       "</div>"
      ],
      "text/plain": [
       "                                                  제목   \n",
       "0                                         처음 배우는 매트랩  \\\n",
       "1                     SAS와 메타분석을 활용한 한번에 적용하는 의학보건통계   \n",
       "2                                        정보교과교육론(3판)   \n",
       "3                IT CookBook, 기초전자실험 with PSpice(3판)   \n",
       "4                                        경제수학 강의(3판)   \n",
       "5                                    글로벌 사회와 리더십(2판)   \n",
       "6                                             행동 재무론   \n",
       "7            IT CookBook, 알기 쉽게 해설한 파이썬 with 컴퓨팅 사고력   \n",
       "8                           MATLAB으로 배우는 공학 수치해석(3판)   \n",
       "9                              Cengel의 알기 쉬운 열역학(6판)   \n",
       "10                             Cengel의 알기 쉬운 열전달(6판)   \n",
       "11              IT CookBook, 알기 쉽게 해설한 자바 프로그래밍(10판)   \n",
       "12               IT CookBook, 비즈니스 애널리틱스를 위한 데이터 마이닝   \n",
       "13                                        현대경영과학(9판)   \n",
       "14                      IT CookBook, 네트워크 해킹과 보안(4판)   \n",
       "15                      IT CookBook, 쉽게 배우는 운영체제(2판)   \n",
       "16  IT CookBook, Android Studio를 활용한 안드로이드 프로그래밍(8판)   \n",
       "17                 STEM CookBook, 전기 및 하이브리드 자동차(3판)   \n",
       "18                          IT CookBook, 컴퓨터 비전과 딥러닝   \n",
       "19                                 리더십 : 이론과 실제 (9판)   \n",
       "\n",
       "                                                   저자   \n",
       "0                                                 방성완  \\\n",
       "1                                       히든그레이스 데이터분석팀   \n",
       "2                                            최현종, 전용주   \n",
       "3                                                 홍순관   \n",
       "4                                                 김성현   \n",
       "5                                                 안광현   \n",
       "6                                                 고광수   \n",
       "7                                            김충석, 김지연   \n",
       "8                                                 방성완   \n",
       "9   Yunus A. Çengel, John M. Cimbala, Afshin J. Gh...   \n",
       "10  Yunus A. Çengel, John M. Cimbala, Afshin J. Gh...   \n",
       "11                                                김충석   \n",
       "12  Galit Shmueli, Peter C. Bruce, Peter Gedeck, N...   \n",
       "13                                                김세헌   \n",
       "14                                           양대일, 홍성혁   \n",
       "15                                                조성호   \n",
       "16                                           우재남, 박길식   \n",
       "17                                       Iqbal Husain   \n",
       "18                                                오일석   \n",
       "19                                 Peter G. Northouse   \n",
       "\n",
       "                              역자         출간일  페이지수     판매가  \n",
       "0                              -  2023-04-10   416  30,000  \n",
       "1                              -  2023-03-09   516  34,000  \n",
       "2                              -  2023-03-01   488  30,000  \n",
       "3                              -  2023-02-28   308  22,000  \n",
       "4                              -  2023-02-28   464  23,000  \n",
       "5                              -  2023-02-28   416  28,000  \n",
       "6                              -  2023-02-28   596  32,000  \n",
       "7                              -  2023-02-24   328  24,000  \n",
       "8                              -  2023-02-20   360  28,000  \n",
       "9   김택영, 한진호, 김덕종, 김우태, 이무연, 전문수  2023-02-17   528  34,000  \n",
       "10  김택영, 김덕종, 김중배, 김혜민, 성연모, 이무연  2023-02-17   520  34,000  \n",
       "11                             -  2023-02-12   780  30,000  \n",
       "12  조성준, 조재희, 조성배, 이성임, 신현정, 김성범  2023-02-10   592  39,000  \n",
       "13                             -  2023-01-31   592  35,000  \n",
       "14                             -  2023-01-30   516  32,000  \n",
       "15                             -  2023-01-30   616  32,000  \n",
       "16                             -  2023-01-13   580  34,000  \n",
       "17            임원식, 김정윤, 김기찬, 강동우  2023-01-10   592  35,000  \n",
       "18                             -  2023-01-05   664  39,000  \n",
       "19                           김남현  2023-01-02   660  36,000  "
      ]
     },
     "execution_count": 70,
     "metadata": {},
     "output_type": "execute_result"
    }
   ],
   "source": [
    "df2 = pd.DataFrame(lines)\n",
    "df2"
   ]
  },
  {
   "cell_type": "code",
   "execution_count": 71,
   "metadata": {},
   "outputs": [
    {
     "name": "stderr",
     "output_type": "stream",
     "text": [
      "100%|██████████| 23/23 [04:45<00:00, 12.39s/it]\n"
     ]
    }
   ],
   "source": [
    "lines = []\n",
    "for page in tqdm(range(1, 24)):               # 총 페이지가 23 페이지\n",
    "    url = f'{base_url}{main_url}?page={page}'\n",
    "    result = requests.get(url)\n",
    "    soup = BeautifulSoup(result.text)\n",
    "    lis = soup.select('li.sub_book_list')\n",
    "    for li in lis:\n",
    "        href = li.select_one('.pop_quick_bg')['onclick'][10:-1]\n",
    "        res = requests.get(base_url + href)\n",
    "        book_soup = BeautifulSoup(res.text)\n",
    "        info = book_soup.select_one('.store_product_info_box')\n",
    "        title = info.find('h3').text.strip()\n",
    "        book_lis = info.select('.info_list > li')\n",
    "        book_dict = {}\n",
    "        for li in book_lis:\n",
    "            item = li.get_text().split(':')\n",
    "            book_dict[item[0].strip()] = item[1].strip()\n",
    "        author = ', '.join(book_dict['저자'].split(' , '))\n",
    "        translator = ', '.join(book_dict['번역'].split(' , ')) if '번역' in book_dict.keys() else '-'\n",
    "        date = book_dict['출간']\n",
    "        page = int(book_dict['페이지'][:-2])\n",
    "        payments = book_soup.select_one('.payment_box.curr').find_all('p')\n",
    "        sales = payments[1].select_one('.pbr').find('strong').get_text().strip()\n",
    "        lines.append({\n",
    "            '제목':title, '저자':author, '역자':translator,\n",
    "            '출간일':date, '페이지수':page, '판매가':sales\n",
    "        })"
   ]
  },
  {
   "cell_type": "code",
   "execution_count": 72,
   "metadata": {},
   "outputs": [
    {
     "data": {
      "text/html": [
       "<div>\n",
       "<style scoped>\n",
       "    .dataframe tbody tr th:only-of-type {\n",
       "        vertical-align: middle;\n",
       "    }\n",
       "\n",
       "    .dataframe tbody tr th {\n",
       "        vertical-align: top;\n",
       "    }\n",
       "\n",
       "    .dataframe thead th {\n",
       "        text-align: right;\n",
       "    }\n",
       "</style>\n",
       "<table border=\"1\" class=\"dataframe\">\n",
       "  <thead>\n",
       "    <tr style=\"text-align: right;\">\n",
       "      <th></th>\n",
       "      <th>제목</th>\n",
       "      <th>저자</th>\n",
       "      <th>역자</th>\n",
       "      <th>출간일</th>\n",
       "      <th>페이지수</th>\n",
       "      <th>판매가</th>\n",
       "    </tr>\n",
       "  </thead>\n",
       "  <tbody>\n",
       "    <tr>\n",
       "      <th>448</th>\n",
       "      <td>문제해결력을 키우는 이공계 글쓰기 : 발표와 토론까지</td>\n",
       "      <td>한성우</td>\n",
       "      <td>-</td>\n",
       "      <td>2013-02-28</td>\n",
       "      <td>396</td>\n",
       "      <td>18,000</td>\n",
       "    </tr>\n",
       "    <tr>\n",
       "      <th>449</th>\n",
       "      <td>Essential Calculus</td>\n",
       "      <td>James Stewart</td>\n",
       "      <td>-</td>\n",
       "      <td>2012-07-08</td>\n",
       "      <td>960</td>\n",
       "      <td>36,000</td>\n",
       "    </tr>\n",
       "    <tr>\n",
       "      <th>450</th>\n",
       "      <td>의사결정회계</td>\n",
       "      <td>정재권</td>\n",
       "      <td>-</td>\n",
       "      <td>2011-08-25</td>\n",
       "      <td>506</td>\n",
       "      <td>28,000</td>\n",
       "    </tr>\n",
       "    <tr>\n",
       "      <th>451</th>\n",
       "      <td>IT CookBook, 디지털 통신 시스템 : Digital Communicatio...</td>\n",
       "      <td>정호영, 임승각</td>\n",
       "      <td>-</td>\n",
       "      <td>2011-01-31</td>\n",
       "      <td>576</td>\n",
       "      <td>25,000</td>\n",
       "    </tr>\n",
       "    <tr>\n",
       "      <th>452</th>\n",
       "      <td>인간관계론</td>\n",
       "      <td>유기현, 송병선, 권용만</td>\n",
       "      <td>-</td>\n",
       "      <td>2008-09-15</td>\n",
       "      <td>415</td>\n",
       "      <td>25,000</td>\n",
       "    </tr>\n",
       "  </tbody>\n",
       "</table>\n",
       "</div>"
      ],
      "text/plain": [
       "                                                    제목             저자 역자   \n",
       "448                      문제해결력을 키우는 이공계 글쓰기 : 발표와 토론까지            한성우  -  \\\n",
       "449                                 Essential Calculus  James Stewart  -   \n",
       "450                                             의사결정회계            정재권  -   \n",
       "451  IT CookBook, 디지털 통신 시스템 : Digital Communicatio...       정호영, 임승각  -   \n",
       "452                                              인간관계론  유기현, 송병선, 권용만  -   \n",
       "\n",
       "            출간일  페이지수     판매가  \n",
       "448  2013-02-28   396  18,000  \n",
       "449  2012-07-08   960  36,000  \n",
       "450  2011-08-25   506  28,000  \n",
       "451  2011-01-31   576  25,000  \n",
       "452  2008-09-15   415  25,000  "
      ]
     },
     "execution_count": 72,
     "metadata": {},
     "output_type": "execute_result"
    }
   ],
   "source": [
    "df = pd.DataFrame(lines)\n",
    "df.tail()"
   ]
  },
  {
   "cell_type": "code",
   "execution_count": 73,
   "metadata": {},
   "outputs": [],
   "source": [
    "df.to_csv('data/20230425_한빛_새로나온책.csv', index=False)"
   ]
  }
 ],
 "metadata": {
  "kernelspec": {
   "display_name": "base",
   "language": "python",
   "name": "python3"
  },
  "language_info": {
   "codemirror_mode": {
    "name": "ipython",
    "version": 3
   },
   "file_extension": ".py",
   "mimetype": "text/x-python",
   "name": "python",
   "nbconvert_exporter": "python",
   "pygments_lexer": "ipython3",
   "version": "3.10.10"
  },
  "orig_nbformat": 4
 },
 "nbformat": 4,
 "nbformat_minor": 2
}
