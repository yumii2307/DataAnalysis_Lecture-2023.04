{
 "cells": [
  {
   "attachments": {},
   "cell_type": "markdown",
   "metadata": {},
   "source": [
    "### 한빛아카데미 - 새로나온 책"
   ]
  },
  {
   "attachments": {},
   "cell_type": "markdown",
   "metadata": {},
   "source": [
    "제목, 저자, 가격, 이미지"
   ]
  },
  {
   "cell_type": "code",
   "execution_count": 1,
   "metadata": {},
   "outputs": [],
   "source": [
    "import requests\n",
    "from urllib.parse import quote\n",
    "import pandas as pd\n",
    "from bs4 import BeautifulSoup\n",
    "from tqdm import tqdm"
   ]
  },
  {
   "attachments": {},
   "cell_type": "markdown",
   "metadata": {},
   "source": [
    "##### 1. 데이터 가져오기"
   ]
  },
  {
   "cell_type": "code",
   "execution_count": 2,
   "metadata": {},
   "outputs": [],
   "source": [
    "url = 'https://www.hanbit.co.kr/academy/books/new_book_list.html'\n",
    "result = requests.get(url)\n",
    "result.text\n",
    "soup = BeautifulSoup(result.text, 'html.parser')"
   ]
  },
  {
   "attachments": {},
   "cell_type": "markdown",
   "metadata": {},
   "source": [
    "##### 2. 원하는 데이터 찾기"
   ]
  },
  {
   "cell_type": "code",
   "execution_count": 3,
   "metadata": {},
   "outputs": [
    {
     "data": {
      "text/plain": [
       "20"
      ]
     },
     "execution_count": 3,
     "metadata": {},
     "output_type": "execute_result"
    }
   ],
   "source": [
    "lis = soup.select('li.sub_book_list')\n",
    "len(lis)"
   ]
  },
  {
   "attachments": {},
   "cell_type": "markdown",
   "metadata": {},
   "source": [
    "##### 3. 하나를 선택해서 원하는 정보 추출"
   ]
  },
  {
   "cell_type": "code",
   "execution_count": 4,
   "metadata": {},
   "outputs": [],
   "source": [
    "li = lis[0]"
   ]
  },
  {
   "cell_type": "code",
   "execution_count": 5,
   "metadata": {},
   "outputs": [],
   "source": [
    "# title\n",
    "title = li.select_one('.info > .book_tit').get_text()"
   ]
  },
  {
   "cell_type": "code",
   "execution_count": 6,
   "metadata": {},
   "outputs": [],
   "source": [
    "# writer\n",
    "writer = li.select_one('.info > .book_writer').get_text().strip()"
   ]
  },
  {
   "cell_type": "code",
   "execution_count": 7,
   "metadata": {},
   "outputs": [],
   "source": [
    "# price\n",
    "price = li.select_one('.img_hidden_a > .price').get_text()"
   ]
  },
  {
   "attachments": {},
   "cell_type": "markdown",
   "metadata": {},
   "source": [
    "##### 4. 한 페이지 내에 있는 정보"
   ]
  },
  {
   "cell_type": "code",
   "execution_count": 8,
   "metadata": {},
   "outputs": [
    {
     "data": {
      "text/html": [
       "<div>\n",
       "<style scoped>\n",
       "    .dataframe tbody tr th:only-of-type {\n",
       "        vertical-align: middle;\n",
       "    }\n",
       "\n",
       "    .dataframe tbody tr th {\n",
       "        vertical-align: top;\n",
       "    }\n",
       "\n",
       "    .dataframe thead th {\n",
       "        text-align: right;\n",
       "    }\n",
       "</style>\n",
       "<table border=\"1\" class=\"dataframe\">\n",
       "  <thead>\n",
       "    <tr style=\"text-align: right;\">\n",
       "      <th></th>\n",
       "      <th>title</th>\n",
       "      <th>writer</th>\n",
       "      <th>price</th>\n",
       "    </tr>\n",
       "  </thead>\n",
       "  <tbody>\n",
       "    <tr>\n",
       "      <th>0</th>\n",
       "      <td>처음 배우는 매트랩</td>\n",
       "      <td>방성완</td>\n",
       "      <td>30,000원</td>\n",
       "    </tr>\n",
       "    <tr>\n",
       "      <th>1</th>\n",
       "      <td>SAS와 메타분석을 활용한 한번에 적용하는 의학보건통계</td>\n",
       "      <td>히든그레이스 데이터분석팀</td>\n",
       "      <td>34,000원</td>\n",
       "    </tr>\n",
       "    <tr>\n",
       "      <th>2</th>\n",
       "      <td>정보교과교육론(3판)</td>\n",
       "      <td>최현종 , 전용주</td>\n",
       "      <td>30,000원</td>\n",
       "    </tr>\n",
       "    <tr>\n",
       "      <th>3</th>\n",
       "      <td>IT CookBook, 기초전자실험 with PSpice(3판)</td>\n",
       "      <td>홍순관</td>\n",
       "      <td>22,000원</td>\n",
       "    </tr>\n",
       "    <tr>\n",
       "      <th>4</th>\n",
       "      <td>경제수학 강의(3판)</td>\n",
       "      <td>김성현</td>\n",
       "      <td>23,000원</td>\n",
       "    </tr>\n",
       "  </tbody>\n",
       "</table>\n",
       "</div>"
      ],
      "text/plain": [
       "                                 title         writer    price\n",
       "0                           처음 배우는 매트랩            방성완  30,000원\n",
       "1       SAS와 메타분석을 활용한 한번에 적용하는 의학보건통계  히든그레이스 데이터분석팀  34,000원\n",
       "2                          정보교과교육론(3판)      최현종 , 전용주  30,000원\n",
       "3  IT CookBook, 기초전자실험 with PSpice(3판)            홍순관  22,000원\n",
       "4                          경제수학 강의(3판)            김성현  23,000원"
      ]
     },
     "execution_count": 8,
     "metadata": {},
     "output_type": "execute_result"
    }
   ],
   "source": [
    "line = []\n",
    "for li in lis:\n",
    "    title = li.select_one('.info > .book_tit').get_text()\n",
    "    writer = li.select_one('.info > .book_writer').get_text().strip()\n",
    "    price = li.select_one('.img_hidden_a > .price').get_text()\n",
    "    line.append({'title': title, 'writer': writer, 'price': price})\n",
    "h = pd.DataFrame(line)\n",
    "h.head()"
   ]
  },
  {
   "attachments": {},
   "cell_type": "markdown",
   "metadata": {},
   "source": [
    "##### 5. 에러 처리"
   ]
  },
  {
   "attachments": {},
   "cell_type": "markdown",
   "metadata": {},
   "source": [
    "##### 6. 모든 페이지에 대해서 처리하기"
   ]
  },
  {
   "cell_type": "code",
   "execution_count": 9,
   "metadata": {},
   "outputs": [
    {
     "name": "stderr",
     "output_type": "stream",
     "text": [
      "100%|██████████| 23/23 [00:11<00:00,  1.97it/s]\n"
     ]
    }
   ],
   "source": [
    "lines = []\n",
    "base_url = 'https://www.hanbit.co.kr/academy/books/new_book_list.html'\n",
    "for pg in tqdm(range(1, 24)):\n",
    "    url = f'{base_url}?page={pg}&cate_cd=&srt=&searchKey=&keyWord='\n",
    "    result = requests.get(url)\n",
    "    soup = BeautifulSoup(result.text, 'html.parser')\n",
    "    lis = soup.select('li.sub_book_list')\n",
    "    for li in lis:\n",
    "        title = li.select_one('.info > .book_tit').get_text()\n",
    "        writer = li.select_one('.info > .book_writer').get_text().strip()\n",
    "        price = li.select_one('.img_hidden_a > .price').get_text()\n",
    "        lines.append({'title': title, 'writer': writer, 'price': price})"
   ]
  },
  {
   "cell_type": "code",
   "execution_count": 10,
   "metadata": {},
   "outputs": [
    {
     "data": {
      "text/html": [
       "<div>\n",
       "<style scoped>\n",
       "    .dataframe tbody tr th:only-of-type {\n",
       "        vertical-align: middle;\n",
       "    }\n",
       "\n",
       "    .dataframe tbody tr th {\n",
       "        vertical-align: top;\n",
       "    }\n",
       "\n",
       "    .dataframe thead th {\n",
       "        text-align: right;\n",
       "    }\n",
       "</style>\n",
       "<table border=\"1\" class=\"dataframe\">\n",
       "  <thead>\n",
       "    <tr style=\"text-align: right;\">\n",
       "      <th></th>\n",
       "      <th>title</th>\n",
       "      <th>writer</th>\n",
       "      <th>price</th>\n",
       "    </tr>\n",
       "  </thead>\n",
       "  <tbody>\n",
       "    <tr>\n",
       "      <th>0</th>\n",
       "      <td>처음 배우는 매트랩</td>\n",
       "      <td>방성완</td>\n",
       "      <td>30,000원</td>\n",
       "    </tr>\n",
       "    <tr>\n",
       "      <th>1</th>\n",
       "      <td>SAS와 메타분석을 활용한 한번에 적용하는 의학보건통계</td>\n",
       "      <td>히든그레이스 데이터분석팀</td>\n",
       "      <td>34,000원</td>\n",
       "    </tr>\n",
       "    <tr>\n",
       "      <th>2</th>\n",
       "      <td>정보교과교육론(3판)</td>\n",
       "      <td>최현종 , 전용주</td>\n",
       "      <td>30,000원</td>\n",
       "    </tr>\n",
       "    <tr>\n",
       "      <th>3</th>\n",
       "      <td>IT CookBook, 기초전자실험 with PSpice(3판)</td>\n",
       "      <td>홍순관</td>\n",
       "      <td>22,000원</td>\n",
       "    </tr>\n",
       "    <tr>\n",
       "      <th>4</th>\n",
       "      <td>경제수학 강의(3판)</td>\n",
       "      <td>김성현</td>\n",
       "      <td>23,000원</td>\n",
       "    </tr>\n",
       "    <tr>\n",
       "      <th>5</th>\n",
       "      <td>글로벌 사회와 리더십(2판)</td>\n",
       "      <td>안광현</td>\n",
       "      <td>28,000원</td>\n",
       "    </tr>\n",
       "    <tr>\n",
       "      <th>6</th>\n",
       "      <td>행동 재무론</td>\n",
       "      <td>고광수</td>\n",
       "      <td>32,000원</td>\n",
       "    </tr>\n",
       "    <tr>\n",
       "      <th>7</th>\n",
       "      <td>IT CookBook, 알기 쉽게 해설한 파이썬 with 컴퓨팅 사고력</td>\n",
       "      <td>김충석 , 김지연</td>\n",
       "      <td>24,000원</td>\n",
       "    </tr>\n",
       "    <tr>\n",
       "      <th>8</th>\n",
       "      <td>MATLAB으로 배우는 공학 수치해석(3판)</td>\n",
       "      <td>방성완</td>\n",
       "      <td>28,000원</td>\n",
       "    </tr>\n",
       "    <tr>\n",
       "      <th>9</th>\n",
       "      <td>Cengel의 알기 쉬운 열역학(6판)</td>\n",
       "      <td>Yunus A. Çengel , John M. Cimbala , Afshin J. ...</td>\n",
       "      <td>34,000원</td>\n",
       "    </tr>\n",
       "    <tr>\n",
       "      <th>10</th>\n",
       "      <td>Cengel의 알기 쉬운 열전달(6판)</td>\n",
       "      <td>Yunus A. Çengel , John M. Cimbala , Afshin J. ...</td>\n",
       "      <td>34,000원</td>\n",
       "    </tr>\n",
       "    <tr>\n",
       "      <th>11</th>\n",
       "      <td>IT CookBook, 알기 쉽게 해설한 자바 프로그래밍(10판)</td>\n",
       "      <td>김충석</td>\n",
       "      <td>30,000원</td>\n",
       "    </tr>\n",
       "    <tr>\n",
       "      <th>12</th>\n",
       "      <td>IT CookBook, 비즈니스 애널리틱스를 위한 데이터 마이닝</td>\n",
       "      <td>Galit Shmueli , Peter C. Bruce , Peter Gedeck ...</td>\n",
       "      <td>39,000원</td>\n",
       "    </tr>\n",
       "    <tr>\n",
       "      <th>13</th>\n",
       "      <td>현대경영과학(9판)</td>\n",
       "      <td>김세헌</td>\n",
       "      <td>35,000원</td>\n",
       "    </tr>\n",
       "    <tr>\n",
       "      <th>14</th>\n",
       "      <td>IT CookBook, 네트워크 해킹과 보안(4판)</td>\n",
       "      <td>양대일 , 홍성혁</td>\n",
       "      <td>32,000원</td>\n",
       "    </tr>\n",
       "    <tr>\n",
       "      <th>15</th>\n",
       "      <td>IT CookBook, 쉽게 배우는 운영체제(2판)</td>\n",
       "      <td>조성호</td>\n",
       "      <td>32,000원</td>\n",
       "    </tr>\n",
       "    <tr>\n",
       "      <th>16</th>\n",
       "      <td>IT CookBook, Android Studio를 활용한 안드로이드 프로그래밍(8판)</td>\n",
       "      <td>우재남 , 박길식</td>\n",
       "      <td>34,000원</td>\n",
       "    </tr>\n",
       "    <tr>\n",
       "      <th>17</th>\n",
       "      <td>STEM CookBook, 전기 및 하이브리드 자동차(3판)</td>\n",
       "      <td>Iqbal Husain</td>\n",
       "      <td>35,000원</td>\n",
       "    </tr>\n",
       "    <tr>\n",
       "      <th>18</th>\n",
       "      <td>IT CookBook, 컴퓨터 비전과 딥러닝</td>\n",
       "      <td>오일석</td>\n",
       "      <td>39,000원</td>\n",
       "    </tr>\n",
       "    <tr>\n",
       "      <th>19</th>\n",
       "      <td>리더십 : 이론과 실제 (9판)</td>\n",
       "      <td>Peter G. Northouse</td>\n",
       "      <td>36,000원</td>\n",
       "    </tr>\n",
       "  </tbody>\n",
       "</table>\n",
       "</div>"
      ],
      "text/plain": [
       "                                               title   \n",
       "0                                         처음 배우는 매트랩  \\\n",
       "1                     SAS와 메타분석을 활용한 한번에 적용하는 의학보건통계   \n",
       "2                                        정보교과교육론(3판)   \n",
       "3                IT CookBook, 기초전자실험 with PSpice(3판)   \n",
       "4                                        경제수학 강의(3판)   \n",
       "5                                    글로벌 사회와 리더십(2판)   \n",
       "6                                             행동 재무론   \n",
       "7            IT CookBook, 알기 쉽게 해설한 파이썬 with 컴퓨팅 사고력   \n",
       "8                           MATLAB으로 배우는 공학 수치해석(3판)   \n",
       "9                              Cengel의 알기 쉬운 열역학(6판)   \n",
       "10                             Cengel의 알기 쉬운 열전달(6판)   \n",
       "11              IT CookBook, 알기 쉽게 해설한 자바 프로그래밍(10판)   \n",
       "12               IT CookBook, 비즈니스 애널리틱스를 위한 데이터 마이닝   \n",
       "13                                        현대경영과학(9판)   \n",
       "14                      IT CookBook, 네트워크 해킹과 보안(4판)   \n",
       "15                      IT CookBook, 쉽게 배우는 운영체제(2판)   \n",
       "16  IT CookBook, Android Studio를 활용한 안드로이드 프로그래밍(8판)   \n",
       "17                 STEM CookBook, 전기 및 하이브리드 자동차(3판)   \n",
       "18                          IT CookBook, 컴퓨터 비전과 딥러닝   \n",
       "19                                 리더십 : 이론과 실제 (9판)   \n",
       "\n",
       "                                               writer    price  \n",
       "0                                                 방성완  30,000원  \n",
       "1                                       히든그레이스 데이터분석팀  34,000원  \n",
       "2                                           최현종 , 전용주  30,000원  \n",
       "3                                                 홍순관  22,000원  \n",
       "4                                                 김성현  23,000원  \n",
       "5                                                 안광현  28,000원  \n",
       "6                                                 고광수  32,000원  \n",
       "7                                           김충석 , 김지연  24,000원  \n",
       "8                                                 방성완  28,000원  \n",
       "9   Yunus A. Çengel , John M. Cimbala , Afshin J. ...  34,000원  \n",
       "10  Yunus A. Çengel , John M. Cimbala , Afshin J. ...  34,000원  \n",
       "11                                                김충석  30,000원  \n",
       "12  Galit Shmueli , Peter C. Bruce , Peter Gedeck ...  39,000원  \n",
       "13                                                김세헌  35,000원  \n",
       "14                                          양대일 , 홍성혁  32,000원  \n",
       "15                                                조성호  32,000원  \n",
       "16                                          우재남 , 박길식  34,000원  \n",
       "17                                       Iqbal Husain  35,000원  \n",
       "18                                                오일석  39,000원  \n",
       "19                                 Peter G. Northouse  36,000원  "
      ]
     },
     "execution_count": 10,
     "metadata": {},
     "output_type": "execute_result"
    }
   ],
   "source": [
    "hanbit = pd.DataFrame(lines)\n",
    "hanbit.head(20)"
   ]
  },
  {
   "cell_type": "code",
   "execution_count": 11,
   "metadata": {},
   "outputs": [
    {
     "data": {
      "text/html": [
       "<div>\n",
       "<style scoped>\n",
       "    .dataframe tbody tr th:only-of-type {\n",
       "        vertical-align: middle;\n",
       "    }\n",
       "\n",
       "    .dataframe tbody tr th {\n",
       "        vertical-align: top;\n",
       "    }\n",
       "\n",
       "    .dataframe thead th {\n",
       "        text-align: right;\n",
       "    }\n",
       "</style>\n",
       "<table border=\"1\" class=\"dataframe\">\n",
       "  <thead>\n",
       "    <tr style=\"text-align: right;\">\n",
       "      <th></th>\n",
       "      <th>title</th>\n",
       "      <th>writer</th>\n",
       "      <th>price</th>\n",
       "    </tr>\n",
       "  </thead>\n",
       "  <tbody>\n",
       "    <tr>\n",
       "      <th>0</th>\n",
       "      <td>처음 배우는 매트랩</td>\n",
       "      <td>방성완</td>\n",
       "      <td>30,000원</td>\n",
       "    </tr>\n",
       "    <tr>\n",
       "      <th>1</th>\n",
       "      <td>SAS와 메타분석을 활용한 한번에 적용하는 의학보건통계</td>\n",
       "      <td>히든그레이스 데이터분석팀</td>\n",
       "      <td>34,000원</td>\n",
       "    </tr>\n",
       "    <tr>\n",
       "      <th>2</th>\n",
       "      <td>정보교과교육론(3판)</td>\n",
       "      <td>최현종 , 전용주</td>\n",
       "      <td>30,000원</td>\n",
       "    </tr>\n",
       "    <tr>\n",
       "      <th>3</th>\n",
       "      <td>IT CookBook, 기초전자실험 with PSpice(3판)</td>\n",
       "      <td>홍순관</td>\n",
       "      <td>22,000원</td>\n",
       "    </tr>\n",
       "    <tr>\n",
       "      <th>4</th>\n",
       "      <td>경제수학 강의(3판)</td>\n",
       "      <td>김성현</td>\n",
       "      <td>23,000원</td>\n",
       "    </tr>\n",
       "    <tr>\n",
       "      <th>...</th>\n",
       "      <td>...</td>\n",
       "      <td>...</td>\n",
       "      <td>...</td>\n",
       "    </tr>\n",
       "    <tr>\n",
       "      <th>448</th>\n",
       "      <td>문제해결력을 키우는 이공계 글쓰기 : 발표와 토론까지</td>\n",
       "      <td>한성우</td>\n",
       "      <td>18,000원</td>\n",
       "    </tr>\n",
       "    <tr>\n",
       "      <th>449</th>\n",
       "      <td>Essential Calculus</td>\n",
       "      <td>James Stewart</td>\n",
       "      <td>36,000원</td>\n",
       "    </tr>\n",
       "    <tr>\n",
       "      <th>450</th>\n",
       "      <td>의사결정회계</td>\n",
       "      <td>정재권</td>\n",
       "      <td>28,000원</td>\n",
       "    </tr>\n",
       "    <tr>\n",
       "      <th>451</th>\n",
       "      <td>IT CookBook, 디지털 통신 시스템 : Digital Communicatio...</td>\n",
       "      <td>정호영 , 임승각</td>\n",
       "      <td>25,000원</td>\n",
       "    </tr>\n",
       "    <tr>\n",
       "      <th>452</th>\n",
       "      <td>인간관계론</td>\n",
       "      <td>유기현 , 송병선 , 권용만</td>\n",
       "      <td>25,000원</td>\n",
       "    </tr>\n",
       "  </tbody>\n",
       "</table>\n",
       "<p>453 rows × 3 columns</p>\n",
       "</div>"
      ],
      "text/plain": [
       "                                                 title           writer   \n",
       "0                                           처음 배우는 매트랩              방성완  \\\n",
       "1                       SAS와 메타분석을 활용한 한번에 적용하는 의학보건통계    히든그레이스 데이터분석팀   \n",
       "2                                          정보교과교육론(3판)        최현종 , 전용주   \n",
       "3                  IT CookBook, 기초전자실험 with PSpice(3판)              홍순관   \n",
       "4                                          경제수학 강의(3판)              김성현   \n",
       "..                                                 ...              ...   \n",
       "448                      문제해결력을 키우는 이공계 글쓰기 : 발표와 토론까지              한성우   \n",
       "449                                 Essential Calculus    James Stewart   \n",
       "450                                             의사결정회계              정재권   \n",
       "451  IT CookBook, 디지털 통신 시스템 : Digital Communicatio...        정호영 , 임승각   \n",
       "452                                              인간관계론  유기현 , 송병선 , 권용만   \n",
       "\n",
       "       price  \n",
       "0    30,000원  \n",
       "1    34,000원  \n",
       "2    30,000원  \n",
       "3    22,000원  \n",
       "4    23,000원  \n",
       "..       ...  \n",
       "448  18,000원  \n",
       "449  36,000원  \n",
       "450  28,000원  \n",
       "451  25,000원  \n",
       "452  25,000원  \n",
       "\n",
       "[453 rows x 3 columns]"
      ]
     },
     "execution_count": 11,
     "metadata": {},
     "output_type": "execute_result"
    }
   ],
   "source": [
    "hanbit.to_csv('data/한빛아카데미_새로나온책.csv', index=False)\n",
    "pd.read_csv('data/한빛아카데미_새로나온책.csv')"
   ]
  }
 ],
 "metadata": {
  "kernelspec": {
   "display_name": "base",
   "language": "python",
   "name": "python3"
  },
  "language_info": {
   "codemirror_mode": {
    "name": "ipython",
    "version": 3
   },
   "file_extension": ".py",
   "mimetype": "text/x-python",
   "name": "python",
   "nbconvert_exporter": "python",
   "pygments_lexer": "ipython3",
   "version": "3.10.10"
  },
  "orig_nbformat": 4
 },
 "nbformat": 4,
 "nbformat_minor": 2
}
