{
 "cells": [
  {
   "attachments": {},
   "cell_type": "markdown",
   "metadata": {},
   "source": [
    "### Opinet - 서울시 구별 주유소 가격 정보 얻기"
   ]
  },
  {
   "cell_type": "code",
   "execution_count": 1,
   "metadata": {},
   "outputs": [],
   "source": [
    "import time\n",
    "import pandas as pd\n",
    "from selenium import webdriver\n",
    "from selenium.webdriver.common.by import By\n",
    "from selenium.webdriver.common.keys import Keys\n",
    "from bs4 import BeautifulSoup\n",
    "import warnings\n",
    "warnings.filterwarnings('ignore')"
   ]
  },
  {
   "cell_type": "code",
   "execution_count": 12,
   "metadata": {},
   "outputs": [],
   "source": [
    "# Opinet 초기 화면 / 싼 주유소 찾기 / 지역별\n",
    "url = 'https://www.opinet.co.kr/searRgSelect.do'\n",
    "driver = webdriver.Chrome('C:/Users/YONSAI/Downloads/chromedriver')\n",
    "driver.get(url)"
   ]
  },
  {
   "cell_type": "code",
   "execution_count": 4,
   "metadata": {},
   "outputs": [],
   "source": [
    "# 서울 자치구 리스트 가져오기\n",
    "metro = driver.find_element(By.XPATH, '//*[@id=\"SIDO_NM0\"]')        # 시/도\n",
    "metro.send_keys('서울')"
   ]
  },
  {
   "cell_type": "code",
   "execution_count": 5,
   "metadata": {},
   "outputs": [
    {
     "data": {
      "text/plain": [
       "[<selenium.webdriver.remote.webelement.WebElement (session=\"b3deb253be907f9d724091c56c3f4431\", element=\"f220b385-e6af-4760-8cad-62c186f82a14\")>,\n",
       " <selenium.webdriver.remote.webelement.WebElement (session=\"b3deb253be907f9d724091c56c3f4431\", element=\"71b1251d-4a13-429b-b237-568cad31c315\")>,\n",
       " <selenium.webdriver.remote.webelement.WebElement (session=\"b3deb253be907f9d724091c56c3f4431\", element=\"8a2fac23-b506-4851-867a-d9d5c3042d45\")>]"
      ]
     },
     "execution_count": 5,
     "metadata": {},
     "output_type": "execute_result"
    }
   ],
   "source": [
    "sigungu = driver.find_element(By.XPATH, '//*[@id=\"SIGUNGU_NM0\"]')   # 시/군/구\n",
    "gu_list = sigungu.find_elements(By.TAG_NAME, 'option')\n",
    "gu_list[:3]"
   ]
  },
  {
   "cell_type": "code",
   "execution_count": 6,
   "metadata": {},
   "outputs": [
    {
     "data": {
      "text/plain": [
       "'강남구'"
      ]
     },
     "execution_count": 6,
     "metadata": {},
     "output_type": "execute_result"
    }
   ],
   "source": [
    "gu_list[1].text"
   ]
  },
  {
   "cell_type": "code",
   "execution_count": 7,
   "metadata": {},
   "outputs": [
    {
     "data": {
      "text/plain": [
       "['강남구', '강동구', '강북구', '강서구', '관악구']"
      ]
     },
     "execution_count": 7,
     "metadata": {},
     "output_type": "execute_result"
    }
   ],
   "source": [
    "gu_names = [gu.text for gu in gu_list[1:]]          # 시/군/구 를 제외한 구 이름의 리스트\n",
    "gu_names[:5]"
   ]
  },
  {
   "cell_type": "code",
   "execution_count": 8,
   "metadata": {},
   "outputs": [],
   "source": [
    "# 강남구 선택\n",
    "sigungu.send_keys(gu_names[0])"
   ]
  },
  {
   "cell_type": "code",
   "execution_count": 9,
   "metadata": {},
   "outputs": [],
   "source": [
    "# 엑셀 저장\n",
    "driver.find_element(By.ID, 'glopopd_excel').click()"
   ]
  },
  {
   "cell_type": "code",
   "execution_count": 13,
   "metadata": {},
   "outputs": [
    {
     "ename": "NoSuchElementException",
     "evalue": "Message: no such element: Unable to locate element: {\"method\":\"xpath\",\"selector\":\"//*[@id=\"SIGUNGU_NM0\"]\"}\n  (Session info: chrome=112.0.5615.138)\nStacktrace:\nBacktrace:\n\tGetHandleVerifier [0x00A3DCE3+50899]\n\t(No symbol) [0x009CE111]\n\t(No symbol) [0x008D5588]\n\t(No symbol) [0x009008F9]\n\t(No symbol) [0x00900AFB]\n\t(No symbol) [0x0092F902]\n\t(No symbol) [0x0091B944]\n\t(No symbol) [0x0092E01C]\n\t(No symbol) [0x0091B6F6]\n\t(No symbol) [0x008F7708]\n\t(No symbol) [0x008F886D]\n\tGetHandleVerifier [0x00CA3EAE+2566302]\n\tGetHandleVerifier [0x00CD92B1+2784417]\n\tGetHandleVerifier [0x00CD327C+2759788]\n\tGetHandleVerifier [0x00AD5740+672048]\n\t(No symbol) [0x009D8872]\n\t(No symbol) [0x009D41C8]\n\t(No symbol) [0x009D42AB]\n\t(No symbol) [0x009C71B7]\n\tBaseThreadInitThunk [0x76160099+25]\n\tRtlGetAppContainerNamedObjectPath [0x77B37B6E+286]\n\tRtlGetAppContainerNamedObjectPath [0x77B37B3E+238]\n",
     "output_type": "error",
     "traceback": [
      "\u001b[1;31m---------------------------------------------------------------------------\u001b[0m",
      "\u001b[1;31mNoSuchElementException\u001b[0m                    Traceback (most recent call last)",
      "Cell \u001b[1;32mIn[13], line 5\u001b[0m\n\u001b[0;32m      3\u001b[0m driver\u001b[39m.\u001b[39mget(url)\n\u001b[0;32m      4\u001b[0m \u001b[39mfor\u001b[39;00m gu \u001b[39min\u001b[39;00m gu_names:\n\u001b[1;32m----> 5\u001b[0m     sigungu \u001b[39m=\u001b[39m driver\u001b[39m.\u001b[39;49mfind_element(By\u001b[39m.\u001b[39;49mXPATH, \u001b[39m'\u001b[39;49m\u001b[39m//*[@id=\u001b[39;49m\u001b[39m\"\u001b[39;49m\u001b[39mSIGUNGU_NM0\u001b[39;49m\u001b[39m\"\u001b[39;49m\u001b[39m]\u001b[39;49m\u001b[39m'\u001b[39;49m)\n\u001b[0;32m      6\u001b[0m     sigungu\u001b[39m.\u001b[39msend_keys(gu)\n\u001b[0;32m      7\u001b[0m     time\u001b[39m.\u001b[39msleep(\u001b[39m5\u001b[39m)\n",
      "File \u001b[1;32mc:\\Users\\YONSAI\\anaconda3\\lib\\site-packages\\selenium\\webdriver\\remote\\webdriver.py:831\u001b[0m, in \u001b[0;36mWebDriver.find_element\u001b[1;34m(self, by, value)\u001b[0m\n\u001b[0;32m    828\u001b[0m     by \u001b[39m=\u001b[39m By\u001b[39m.\u001b[39mCSS_SELECTOR\n\u001b[0;32m    829\u001b[0m     value \u001b[39m=\u001b[39m \u001b[39mf\u001b[39m\u001b[39m'\u001b[39m\u001b[39m[name=\u001b[39m\u001b[39m\"\u001b[39m\u001b[39m{\u001b[39;00mvalue\u001b[39m}\u001b[39;00m\u001b[39m\"\u001b[39m\u001b[39m]\u001b[39m\u001b[39m'\u001b[39m\n\u001b[1;32m--> 831\u001b[0m \u001b[39mreturn\u001b[39;00m \u001b[39mself\u001b[39;49m\u001b[39m.\u001b[39;49mexecute(Command\u001b[39m.\u001b[39;49mFIND_ELEMENT, {\u001b[39m\"\u001b[39;49m\u001b[39musing\u001b[39;49m\u001b[39m\"\u001b[39;49m: by, \u001b[39m\"\u001b[39;49m\u001b[39mvalue\u001b[39;49m\u001b[39m\"\u001b[39;49m: value})[\u001b[39m\"\u001b[39m\u001b[39mvalue\u001b[39m\u001b[39m\"\u001b[39m]\n",
      "File \u001b[1;32mc:\\Users\\YONSAI\\anaconda3\\lib\\site-packages\\selenium\\webdriver\\remote\\webdriver.py:440\u001b[0m, in \u001b[0;36mWebDriver.execute\u001b[1;34m(self, driver_command, params)\u001b[0m\n\u001b[0;32m    438\u001b[0m response \u001b[39m=\u001b[39m \u001b[39mself\u001b[39m\u001b[39m.\u001b[39mcommand_executor\u001b[39m.\u001b[39mexecute(driver_command, params)\n\u001b[0;32m    439\u001b[0m \u001b[39mif\u001b[39;00m response:\n\u001b[1;32m--> 440\u001b[0m     \u001b[39mself\u001b[39;49m\u001b[39m.\u001b[39;49merror_handler\u001b[39m.\u001b[39;49mcheck_response(response)\n\u001b[0;32m    441\u001b[0m     response[\u001b[39m\"\u001b[39m\u001b[39mvalue\u001b[39m\u001b[39m\"\u001b[39m] \u001b[39m=\u001b[39m \u001b[39mself\u001b[39m\u001b[39m.\u001b[39m_unwrap_value(response\u001b[39m.\u001b[39mget(\u001b[39m\"\u001b[39m\u001b[39mvalue\u001b[39m\u001b[39m\"\u001b[39m, \u001b[39mNone\u001b[39;00m))\n\u001b[0;32m    442\u001b[0m     \u001b[39mreturn\u001b[39;00m response\n",
      "File \u001b[1;32mc:\\Users\\YONSAI\\anaconda3\\lib\\site-packages\\selenium\\webdriver\\remote\\errorhandler.py:245\u001b[0m, in \u001b[0;36mErrorHandler.check_response\u001b[1;34m(self, response)\u001b[0m\n\u001b[0;32m    243\u001b[0m         alert_text \u001b[39m=\u001b[39m value[\u001b[39m\"\u001b[39m\u001b[39malert\u001b[39m\u001b[39m\"\u001b[39m]\u001b[39m.\u001b[39mget(\u001b[39m\"\u001b[39m\u001b[39mtext\u001b[39m\u001b[39m\"\u001b[39m)\n\u001b[0;32m    244\u001b[0m     \u001b[39mraise\u001b[39;00m exception_class(message, screen, stacktrace, alert_text)  \u001b[39m# type: ignore[call-arg]  # mypy is not smart enough here\u001b[39;00m\n\u001b[1;32m--> 245\u001b[0m \u001b[39mraise\u001b[39;00m exception_class(message, screen, stacktrace)\n",
      "\u001b[1;31mNoSuchElementException\u001b[0m: Message: no such element: Unable to locate element: {\"method\":\"xpath\",\"selector\":\"//*[@id=\"SIGUNGU_NM0\"]\"}\n  (Session info: chrome=112.0.5615.138)\nStacktrace:\nBacktrace:\n\tGetHandleVerifier [0x00A3DCE3+50899]\n\t(No symbol) [0x009CE111]\n\t(No symbol) [0x008D5588]\n\t(No symbol) [0x009008F9]\n\t(No symbol) [0x00900AFB]\n\t(No symbol) [0x0092F902]\n\t(No symbol) [0x0091B944]\n\t(No symbol) [0x0092E01C]\n\t(No symbol) [0x0091B6F6]\n\t(No symbol) [0x008F7708]\n\t(No symbol) [0x008F886D]\n\tGetHandleVerifier [0x00CA3EAE+2566302]\n\tGetHandleVerifier [0x00CD92B1+2784417]\n\tGetHandleVerifier [0x00CD327C+2759788]\n\tGetHandleVerifier [0x00AD5740+672048]\n\t(No symbol) [0x009D8872]\n\t(No symbol) [0x009D41C8]\n\t(No symbol) [0x009D42AB]\n\t(No symbol) [0x009C71B7]\n\tBaseThreadInitThunk [0x76160099+25]\n\tRtlGetAppContainerNamedObjectPath [0x77B37B6E+286]\n\tRtlGetAppContainerNamedObjectPath [0x77B37B3E+238]\n"
     ]
    }
   ],
   "source": [
    "# 강남구를 제외한 나머지 자치구에 대해서 주유소 정보 엑셀 저장\n",
    "driver = webdriver.Chrome('C:/Users/YONSAI/Downloads/chromedriver')\n",
    "driver.get(url)\n",
    "for gu in gu_names:\n",
    "    sigungu = driver.find_element(By.XPATH, '//*[@id=\"SIGUNGU_NM0\"]')\n",
    "    sigungu.send_keys(gu)\n",
    "    time.sleep(5)\n",
    "    driver.find_element(By.ID, 'glopopd_excel').click()\n",
    "    time.sleep(2)"
   ]
  },
  {
   "cell_type": "code",
   "execution_count": null,
   "metadata": {},
   "outputs": [],
   "source": []
  }
 ],
 "metadata": {
  "kernelspec": {
   "display_name": "base",
   "language": "python",
   "name": "python3"
  },
  "language_info": {
   "codemirror_mode": {
    "name": "ipython",
    "version": 3
   },
   "file_extension": ".py",
   "mimetype": "text/x-python",
   "name": "python",
   "nbconvert_exporter": "python",
   "pygments_lexer": "ipython3",
   "version": "3.10.10"
  },
  "orig_nbformat": 4
 },
 "nbformat": 4,
 "nbformat_minor": 2
}
