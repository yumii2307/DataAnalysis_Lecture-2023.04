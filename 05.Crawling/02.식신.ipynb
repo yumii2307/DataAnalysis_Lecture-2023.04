{
 "cells": [
  {
   "attachments": {},
   "cell_type": "markdown",
   "metadata": {},
   "source": [
    "### 식신 - 장안문"
   ]
  },
  {
   "cell_type": "code",
   "execution_count": 1,
   "metadata": {},
   "outputs": [],
   "source": [
    "import requests\n",
    "from urllib.parse import quote\n",
    "import pandas as pd\n",
    "from bs4 import BeautifulSoup"
   ]
  },
  {
   "attachments": {},
   "cell_type": "markdown",
   "metadata": {},
   "source": [
    "##### 1. 데이터 가져오기"
   ]
  },
  {
   "cell_type": "code",
   "execution_count": 2,
   "metadata": {},
   "outputs": [],
   "source": [
    "# https://www.siksinhot.com/search?keywords=%EC%9E%A5%EC%95%88%EB%AC%B8\n",
    "base_url = 'https://www.siksinhot.com/search'\n",
    "url = f'{base_url}?keywords={quote(\"장안문\")}'\n",
    "result = requests.get(url)\n",
    "html = result.text"
   ]
  },
  {
   "cell_type": "code",
   "execution_count": 4,
   "metadata": {},
   "outputs": [],
   "source": [
    "soup = BeautifulSoup(result.text, 'html.parser')"
   ]
  },
  {
   "attachments": {},
   "cell_type": "markdown",
   "metadata": {},
   "source": [
    "##### 2. 원하는 데이터 찾기"
   ]
  },
  {
   "cell_type": "code",
   "execution_count": 5,
   "metadata": {},
   "outputs": [
    {
     "data": {
      "text/plain": [
       "28"
      ]
     },
     "execution_count": 5,
     "metadata": {},
     "output_type": "execute_result"
    }
   ],
   "source": [
    "lis = soup.find_all('li')\n",
    "len(lis)"
   ]
  },
  {
   "cell_type": "code",
   "execution_count": 10,
   "metadata": {},
   "outputs": [
    {
     "data": {
      "text/plain": [
       "20"
      ]
     },
     "execution_count": 10,
     "metadata": {},
     "output_type": "execute_result"
    }
   ],
   "source": [
    "# lis = soup.select_one('.localFood_list').find_all('li')\n",
    "lis = soup.select('.localFood_list > li')\n",
    "len(lis)"
   ]
  },
  {
   "attachments": {},
   "cell_type": "markdown",
   "metadata": {},
   "source": [
    "##### 3. 하나를 선택해서 원하는 정보 추출"
   ]
  },
  {
   "cell_type": "code",
   "execution_count": 17,
   "metadata": {},
   "outputs": [
    {
     "data": {
      "text/plain": [
       "'https://img.siksinhot.com/place/1374703567238427.png?w=560&h=448&c=Y'"
      ]
     },
     "execution_count": 17,
     "metadata": {},
     "output_type": "execute_result"
    }
   ],
   "source": [
    "li = lis[0]\n",
    "img = li.find('img')['src']\n",
    "img"
   ]
  },
  {
   "cell_type": "code",
   "execution_count": 24,
   "metadata": {},
   "outputs": [
    {
     "data": {
      "text/plain": [
       "('장안문', '3.5')"
      ]
     },
     "execution_count": 24,
     "metadata": {},
     "output_type": "execute_result"
    }
   ],
   "source": [
    "# 업소명, 평점\n",
    "title = li.select_one('.textBox > h2').get_text()\n",
    "score = li.select_one('.textBox > .score').get_text()\n",
    "title, score"
   ]
  },
  {
   "cell_type": "code",
   "execution_count": 28,
   "metadata": {},
   "outputs": [
    {
     "data": {
      "text/plain": [
       "[<a data-reactid=\"67\" href=\"/search?keywords=시청\">시청</a>,\n",
       " <a data-reactid=\"69\" href=\"/search?keywords=돼지갈비\">돼지갈비</a>]"
      ]
     },
     "execution_count": 28,
     "metadata": {},
     "output_type": "execute_result"
    }
   ],
   "source": [
    "# 위치, 메뉴\n",
    "atags = li.select('.cate > a')\n",
    "atags"
   ]
  },
  {
   "cell_type": "code",
   "execution_count": 29,
   "metadata": {},
   "outputs": [
    {
     "data": {
      "text/plain": [
       "('시청', '돼지갈비')"
      ]
     },
     "execution_count": 29,
     "metadata": {},
     "output_type": "execute_result"
    }
   ],
   "source": [
    "location = atags[0].get_text()\n",
    "menu = atags[1].get_text()\n",
    "location, menu"
   ]
  },
  {
   "attachments": {},
   "cell_type": "markdown",
   "metadata": {},
   "source": [
    "##### 4. 반복문을 사용하여 페이지에 있는 데이터 가져오기"
   ]
  },
  {
   "cell_type": "code",
   "execution_count": 35,
   "metadata": {},
   "outputs": [],
   "source": [
    "line = []\n",
    "for li in lis:\n",
    "    img = li.find('img')['src']\n",
    "    title = li.select_one('.textBox > h2').get_text()\n",
    "    score = li.select_one('.textBox > .score').get_text()\n",
    "    atags = li.select('.cate > a')\n",
    "    location = atags[0].get_text()\n",
    "    menu = atags[1].get_text()\n",
    "    line.append({'img': img, 'title': title, 'score': score, 'location': location, 'menu': menu})"
   ]
  },
  {
   "attachments": {},
   "cell_type": "markdown",
   "metadata": {},
   "source": [
    "##### 5. 오류 발생 - 오류 해결"
   ]
  },
  {
   "attachments": {},
   "cell_type": "markdown",
   "metadata": {},
   "source": [
    "##### 6. 모든 페이지에 대해 반복하기"
   ]
  },
  {
   "attachments": {},
   "cell_type": "markdown",
   "metadata": {},
   "source": [
    "##### 7. 데이터 프레임으로 만들기"
   ]
  },
  {
   "cell_type": "code",
   "execution_count": 36,
   "metadata": {},
   "outputs": [
    {
     "data": {
      "text/html": [
       "<div>\n",
       "<style scoped>\n",
       "    .dataframe tbody tr th:only-of-type {\n",
       "        vertical-align: middle;\n",
       "    }\n",
       "\n",
       "    .dataframe tbody tr th {\n",
       "        vertical-align: top;\n",
       "    }\n",
       "\n",
       "    .dataframe thead th {\n",
       "        text-align: right;\n",
       "    }\n",
       "</style>\n",
       "<table border=\"1\" class=\"dataframe\">\n",
       "  <thead>\n",
       "    <tr style=\"text-align: right;\">\n",
       "      <th></th>\n",
       "      <th>img</th>\n",
       "      <th>title</th>\n",
       "      <th>score</th>\n",
       "      <th>location</th>\n",
       "      <th>menu</th>\n",
       "    </tr>\n",
       "  </thead>\n",
       "  <tbody>\n",
       "    <tr>\n",
       "      <th>0</th>\n",
       "      <td>https://img.siksinhot.com/place/13747035672384...</td>\n",
       "      <td>장안문</td>\n",
       "      <td>3.5</td>\n",
       "      <td>시청</td>\n",
       "      <td>돼지갈비</td>\n",
       "    </tr>\n",
       "    <tr>\n",
       "      <th>1</th>\n",
       "      <td>https://img.siksinhot.com/place/14576724616075...</td>\n",
       "      <td>장안통닭</td>\n",
       "      <td>4.2</td>\n",
       "      <td>수원-팔달구/인계/행궁</td>\n",
       "      <td>치킨/통닭</td>\n",
       "    </tr>\n",
       "    <tr>\n",
       "      <th>2</th>\n",
       "      <td>https://img.siksinhot.com/place/14168290359781...</td>\n",
       "      <td>장안식당</td>\n",
       "      <td>3.7</td>\n",
       "      <td>함평</td>\n",
       "      <td>곱창/대창</td>\n",
       "    </tr>\n",
       "    <tr>\n",
       "      <th>3</th>\n",
       "      <td>https://img.siksinhot.com/place/13594443896888...</td>\n",
       "      <td>장안사 산장</td>\n",
       "      <td>3.5</td>\n",
       "      <td>기장군/정관</td>\n",
       "      <td>삼계탕/백숙/찜닭</td>\n",
       "    </tr>\n",
       "    <tr>\n",
       "      <th>4</th>\n",
       "      <td>https://img.siksinhot.com/place/16099132855466...</td>\n",
       "      <td>장안정</td>\n",
       "      <td>3.7</td>\n",
       "      <td>왕십리/마장/답십리</td>\n",
       "      <td>경양식/돈가스</td>\n",
       "    </tr>\n",
       "    <tr>\n",
       "      <th>5</th>\n",
       "      <td>https://img.siksinhot.com/place/14640787918984...</td>\n",
       "      <td>장안횟집</td>\n",
       "      <td>3.5</td>\n",
       "      <td>강릉시</td>\n",
       "      <td>회/횟집/참치</td>\n",
       "    </tr>\n",
       "    <tr>\n",
       "      <th>6</th>\n",
       "      <td>https://img.siksinhot.com/place/15058927427102...</td>\n",
       "      <td>장안민물장어</td>\n",
       "      <td>4.3</td>\n",
       "      <td>기장군/정관</td>\n",
       "      <td>장어/꼼장어</td>\n",
       "    </tr>\n",
       "    <tr>\n",
       "      <th>7</th>\n",
       "      <td>https://img.siksinhot.com/place/14771561662543...</td>\n",
       "      <td>장안설렁탕</td>\n",
       "      <td>2.1</td>\n",
       "      <td>왕십리/마장/답십리</td>\n",
       "      <td>설렁탕/곰탕/갈비탕</td>\n",
       "    </tr>\n",
       "    <tr>\n",
       "      <th>8</th>\n",
       "      <td>https://img.siksinhot.com/place/16287539479056...</td>\n",
       "      <td>장안삼계탕</td>\n",
       "      <td>3.1</td>\n",
       "      <td>시청</td>\n",
       "      <td>삼계탕/백숙/찜닭</td>\n",
       "    </tr>\n",
       "    <tr>\n",
       "      <th>9</th>\n",
       "      <td>https://img.siksinhot.com/place/14315472041328...</td>\n",
       "      <td>장안아구촌</td>\n",
       "      <td>3.0</td>\n",
       "      <td>기장군/정관</td>\n",
       "      <td>해물탕/해물요리</td>\n",
       "    </tr>\n",
       "    <tr>\n",
       "      <th>10</th>\n",
       "      <td>https://img.siksinhot.com/place/15117206244024...</td>\n",
       "      <td>장안해물탕</td>\n",
       "      <td>2.8</td>\n",
       "      <td>통영</td>\n",
       "      <td>해물탕/해물요리</td>\n",
       "    </tr>\n",
       "    <tr>\n",
       "      <th>11</th>\n",
       "      <td>https://img.siksinhot.com/place/16177638302981...</td>\n",
       "      <td>제주은희네해장국 장안점</td>\n",
       "      <td>평가중</td>\n",
       "      <td>왕십리/마장/답십리</td>\n",
       "      <td>해장국/국밥/육개장</td>\n",
       "    </tr>\n",
       "    <tr>\n",
       "      <th>12</th>\n",
       "      <td>https://img.siksinhot.com/place/16566625352599...</td>\n",
       "      <td>글로리식당 장안점</td>\n",
       "      <td>평가중</td>\n",
       "      <td>왕십리/마장/답십리</td>\n",
       "      <td>한식주점</td>\n",
       "    </tr>\n",
       "    <tr>\n",
       "      <th>13</th>\n",
       "      <td>https://img.siksinhot.com/place/16757568568630...</td>\n",
       "      <td>장안라운지</td>\n",
       "      <td>평가중</td>\n",
       "      <td>왕십리/마장/답십리</td>\n",
       "      <td>무국적 주점</td>\n",
       "    </tr>\n",
       "    <tr>\n",
       "      <th>14</th>\n",
       "      <td>https://img.siksinhot.com/place/15178887832583...</td>\n",
       "      <td>장안집</td>\n",
       "      <td>평가중</td>\n",
       "      <td>임실</td>\n",
       "      <td>해장국/국밥/육개장</td>\n",
       "    </tr>\n",
       "    <tr>\n",
       "      <th>15</th>\n",
       "      <td>https://img.siksinhot.com/place/15320660911083...</td>\n",
       "      <td>장안복어</td>\n",
       "      <td>평가중</td>\n",
       "      <td>영천</td>\n",
       "      <td>한정식</td>\n",
       "    </tr>\n",
       "    <tr>\n",
       "      <th>16</th>\n",
       "      <td>https://img.siksinhot.com/place/15157668164484...</td>\n",
       "      <td>장안바다향</td>\n",
       "      <td>평가중</td>\n",
       "      <td>속초</td>\n",
       "      <td>한정식</td>\n",
       "    </tr>\n",
       "    <tr>\n",
       "      <th>17</th>\n",
       "      <td>https://img.siksinhot.com/place/15247941678023...</td>\n",
       "      <td>장안성</td>\n",
       "      <td>평가중</td>\n",
       "      <td>가좌/수색/응암</td>\n",
       "      <td>중식</td>\n",
       "    </tr>\n",
       "    <tr>\n",
       "      <th>18</th>\n",
       "      <td>https://img.siksinhot.com/place/15320828052523...</td>\n",
       "      <td>장안평 국밥</td>\n",
       "      <td>평가중</td>\n",
       "      <td>북구-유동/신안</td>\n",
       "      <td>해장국/국밥/육개장</td>\n",
       "    </tr>\n",
       "    <tr>\n",
       "      <th>19</th>\n",
       "      <td>https://img.siksinhot.com/place/15179768710806...</td>\n",
       "      <td>장안식당</td>\n",
       "      <td>평가중</td>\n",
       "      <td>함평</td>\n",
       "      <td>중식</td>\n",
       "    </tr>\n",
       "  </tbody>\n",
       "</table>\n",
       "</div>"
      ],
      "text/plain": [
       "                                                  img         title score   \n",
       "0   https://img.siksinhot.com/place/13747035672384...           장안문   3.5  \\\n",
       "1   https://img.siksinhot.com/place/14576724616075...          장안통닭   4.2   \n",
       "2   https://img.siksinhot.com/place/14168290359781...          장안식당   3.7   \n",
       "3   https://img.siksinhot.com/place/13594443896888...        장안사 산장   3.5   \n",
       "4   https://img.siksinhot.com/place/16099132855466...           장안정   3.7   \n",
       "5   https://img.siksinhot.com/place/14640787918984...          장안횟집   3.5   \n",
       "6   https://img.siksinhot.com/place/15058927427102...        장안민물장어   4.3   \n",
       "7   https://img.siksinhot.com/place/14771561662543...         장안설렁탕   2.1   \n",
       "8   https://img.siksinhot.com/place/16287539479056...        장안삼계탕    3.1   \n",
       "9   https://img.siksinhot.com/place/14315472041328...         장안아구촌   3.0   \n",
       "10  https://img.siksinhot.com/place/15117206244024...         장안해물탕   2.8   \n",
       "11  https://img.siksinhot.com/place/16177638302981...  제주은희네해장국 장안점   평가중   \n",
       "12  https://img.siksinhot.com/place/16566625352599...     글로리식당 장안점   평가중   \n",
       "13  https://img.siksinhot.com/place/16757568568630...         장안라운지   평가중   \n",
       "14  https://img.siksinhot.com/place/15178887832583...           장안집   평가중   \n",
       "15  https://img.siksinhot.com/place/15320660911083...          장안복어   평가중   \n",
       "16  https://img.siksinhot.com/place/15157668164484...         장안바다향   평가중   \n",
       "17  https://img.siksinhot.com/place/15247941678023...           장안성   평가중   \n",
       "18  https://img.siksinhot.com/place/15320828052523...        장안평 국밥   평가중   \n",
       "19  https://img.siksinhot.com/place/15179768710806...          장안식당   평가중   \n",
       "\n",
       "        location        menu  \n",
       "0             시청        돼지갈비  \n",
       "1   수원-팔달구/인계/행궁       치킨/통닭  \n",
       "2             함평       곱창/대창  \n",
       "3         기장군/정관   삼계탕/백숙/찜닭  \n",
       "4     왕십리/마장/답십리     경양식/돈가스  \n",
       "5            강릉시     회/횟집/참치  \n",
       "6         기장군/정관      장어/꼼장어  \n",
       "7     왕십리/마장/답십리  설렁탕/곰탕/갈비탕  \n",
       "8             시청   삼계탕/백숙/찜닭  \n",
       "9         기장군/정관    해물탕/해물요리  \n",
       "10            통영    해물탕/해물요리  \n",
       "11    왕십리/마장/답십리  해장국/국밥/육개장  \n",
       "12    왕십리/마장/답십리        한식주점  \n",
       "13    왕십리/마장/답십리      무국적 주점  \n",
       "14            임실  해장국/국밥/육개장  \n",
       "15            영천         한정식  \n",
       "16            속초         한정식  \n",
       "17      가좌/수색/응암          중식  \n",
       "18      북구-유동/신안  해장국/국밥/육개장  \n",
       "19            함평          중식  "
      ]
     },
     "execution_count": 36,
     "metadata": {},
     "output_type": "execute_result"
    }
   ],
   "source": [
    "siksin = pd.DataFrame(line)\n",
    "siksin"
   ]
  },
  {
   "cell_type": "code",
   "execution_count": null,
   "metadata": {},
   "outputs": [],
   "source": []
  }
 ],
 "metadata": {
  "kernelspec": {
   "display_name": "base",
   "language": "python",
   "name": "python3"
  },
  "language_info": {
   "codemirror_mode": {
    "name": "ipython",
    "version": 3
   },
   "file_extension": ".py",
   "mimetype": "text/x-python",
   "name": "python",
   "nbconvert_exporter": "python",
   "pygments_lexer": "ipython3",
   "version": "3.10.10"
  },
  "orig_nbformat": 4
 },
 "nbformat": 4,
 "nbformat_minor": 2
}
