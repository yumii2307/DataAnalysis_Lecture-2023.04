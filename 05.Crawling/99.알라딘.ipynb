{
 "cells": [
  {
   "cell_type": "code",
   "execution_count": 2,
   "metadata": {},
   "outputs": [],
   "source": [
    "import requests\n",
    "from urllib.parse import quote\n",
    "import pandas as pd\n",
    "from bs4 import BeautifulSoup\n",
    "from tqdm import tqdm"
   ]
  },
  {
   "cell_type": "code",
   "execution_count": 4,
   "metadata": {},
   "outputs": [],
   "source": [
    "url = 'https://www.aladin.co.kr/shop/common/wbest.aspx?BranchType=1'\n",
    "result = requests.get(url)\n",
    "soup = BeautifulSoup(result.text, 'html.parser')"
   ]
  },
  {
   "cell_type": "code",
   "execution_count": 5,
   "metadata": {},
   "outputs": [
    {
     "data": {
      "text/plain": [
       "50"
      ]
     },
     "execution_count": 5,
     "metadata": {},
     "output_type": "execute_result"
    }
   ],
   "source": [
    "lis = soup.select('.ss_book_box')\n",
    "len(lis)"
   ]
  },
  {
   "cell_type": "code",
   "execution_count": 6,
   "metadata": {},
   "outputs": [],
   "source": [
    "li = lis[0]"
   ]
  },
  {
   "cell_type": "code",
   "execution_count": 19,
   "metadata": {},
   "outputs": [
    {
     "data": {
      "text/plain": [
       "'세이노의 가르침'"
      ]
     },
     "execution_count": 19,
     "metadata": {},
     "output_type": "execute_result"
    }
   ],
   "source": [
    "title = li.select_one('.ss_book_list > ul > li > a > b').get_text()\n",
    "title"
   ]
  },
  {
   "cell_type": "code",
   "execution_count": 27,
   "metadata": {},
   "outputs": [
    {
     "data": {
      "text/plain": [
       "<li><span class=\"ss_ht1\">[<a href=\"/events/wevent_redirect.aspx?eventid=247935\">화제의 책+알라딘 굿즈 (이벤트 도서 포함, 국내도서 4만원 이상)</a>]</span><br/></li>"
      ]
     },
     "execution_count": 27,
     "metadata": {},
     "output_type": "execute_result"
    }
   ],
   "source": [
    "writer = li.select_one('.ss_book_list > ul > li')\n",
    "writer"
   ]
  },
  {
   "cell_type": "code",
   "execution_count": null,
   "metadata": {},
   "outputs": [],
   "source": [
    "atags = li.select('.ss_book_list > ul > li > a')\n",
    "spantags = li.select('.ss_book_list > ul > li > span')"
   ]
  },
  {
   "cell_type": "code",
   "execution_count": null,
   "metadata": {},
   "outputs": [
    {
     "data": {
      "text/html": [
       "<div>\n",
       "<style scoped>\n",
       "    .dataframe tbody tr th:only-of-type {\n",
       "        vertical-align: middle;\n",
       "    }\n",
       "\n",
       "    .dataframe tbody tr th {\n",
       "        vertical-align: top;\n",
       "    }\n",
       "\n",
       "    .dataframe thead th {\n",
       "        text-align: right;\n",
       "    }\n",
       "</style>\n",
       "<table border=\"1\" class=\"dataframe\">\n",
       "  <thead>\n",
       "    <tr style=\"text-align: right;\">\n",
       "      <th></th>\n",
       "      <th>title</th>\n",
       "      <th>writer</th>\n",
       "      <th>price</th>\n",
       "    </tr>\n",
       "  </thead>\n",
       "  <tbody>\n",
       "    <tr>\n",
       "      <th>0</th>\n",
       "      <td>세이노의 가르침</td>\n",
       "      <td>세이노</td>\n",
       "      <td>7,200원</td>\n",
       "    </tr>\n",
       "    <tr>\n",
       "      <th>1</th>\n",
       "      <td>세이노의 가르침</td>\n",
       "      <td>세이노</td>\n",
       "      <td>7,200원</td>\n",
       "    </tr>\n",
       "    <tr>\n",
       "      <th>2</th>\n",
       "      <td>세이노의 가르침</td>\n",
       "      <td>세이노</td>\n",
       "      <td>7,200원</td>\n",
       "    </tr>\n",
       "    <tr>\n",
       "      <th>3</th>\n",
       "      <td>세이노의 가르침</td>\n",
       "      <td>세이노</td>\n",
       "      <td>7,200원</td>\n",
       "    </tr>\n",
       "    <tr>\n",
       "      <th>4</th>\n",
       "      <td>세이노의 가르침</td>\n",
       "      <td>세이노</td>\n",
       "      <td>7,200원</td>\n",
       "    </tr>\n",
       "  </tbody>\n",
       "</table>\n",
       "</div>"
      ],
      "text/plain": [
       "      title writer   price\n",
       "0  세이노의 가르침    세이노  7,200원\n",
       "1  세이노의 가르침    세이노  7,200원\n",
       "2  세이노의 가르침    세이노  7,200원\n",
       "3  세이노의 가르침    세이노  7,200원\n",
       "4  세이노의 가르침    세이노  7,200원"
      ]
     },
     "execution_count": 51,
     "metadata": {},
     "output_type": "execute_result"
    }
   ],
   "source": [
    "line = []\n",
    "for li in lis:\n",
    "    title = li.select_one('.ss_book_list > ul > li > a > b').get_text()\n",
    "    writer = atags[1].get_text()\n",
    "    price = spantags[2].get_text() + '원'\n",
    "    line.append({'title': title, 'writer': writer, 'price': price})\n",
    "a = pd.DataFrame(line)\n",
    "a.head()"
   ]
  },
  {
   "cell_type": "code",
   "execution_count": null,
   "metadata": {},
   "outputs": [
    {
     "name": "stderr",
     "output_type": "stream",
     "text": [
      "100%|██████████| 20/20 [00:38<00:00,  1.93s/it]\n"
     ]
    }
   ],
   "source": [
    "lines = []\n",
    "base_url = 'https://www.aladin.co.kr/shop/common/wbest.aspx?BestType=Bestseller&BranchType=1&CID=0'\n",
    "for pg in tqdm(range(1, 21)):\n",
    "    url = f'{base_url}&page={pg}&cnt=1000&SortOrder=1'\n",
    "    result = requests.get(url)\n",
    "    soup = BeautifulSoup(result.text, 'html.parser')\n",
    "    lis = soup.select('div.ss_book_box')\n",
    "    li = lis[0]\n",
    "    atags = li.select('.ss_book_list > ul > li > a')\n",
    "    spantags = li.select('.ss_book_list > ul > li > span')\n",
    "    for li in lis:\n",
    "        title = atags[0].get_text()\n",
    "        writer = atags[1].get_text()\n",
    "        publisher = atags[2].get_text()\n",
    "        price = spantags[2].get_text() + '원'\n",
    "        dc_price = spantags[3].get_text()\n",
    "        mileage = spantags[5].get_text() + '원'\n",
    "        lines.append({'title': title, 'writer': writer, 'publisher': publisher, 'price': price, 'dc_price': dc_price, 'mileage': mileage})"
   ]
  },
  {
   "cell_type": "code",
   "execution_count": null,
   "metadata": {},
   "outputs": [
    {
     "data": {
      "text/html": [
       "<div>\n",
       "<style scoped>\n",
       "    .dataframe tbody tr th:only-of-type {\n",
       "        vertical-align: middle;\n",
       "    }\n",
       "\n",
       "    .dataframe tbody tr th {\n",
       "        vertical-align: top;\n",
       "    }\n",
       "\n",
       "    .dataframe thead th {\n",
       "        text-align: right;\n",
       "    }\n",
       "</style>\n",
       "<table border=\"1\" class=\"dataframe\">\n",
       "  <thead>\n",
       "    <tr style=\"text-align: right;\">\n",
       "      <th></th>\n",
       "      <th>title</th>\n",
       "      <th>writer</th>\n",
       "      <th>publisher</th>\n",
       "      <th>price</th>\n",
       "      <th>dc_price</th>\n",
       "      <th>mileage</th>\n",
       "    </tr>\n",
       "  </thead>\n",
       "  <tbody>\n",
       "    <tr>\n",
       "      <th>0</th>\n",
       "      <td>세이노의 가르침</td>\n",
       "      <td>세이노</td>\n",
       "      <td>데이원</td>\n",
       "      <td>7,200원</td>\n",
       "      <td>6,480원</td>\n",
       "      <td>360원</td>\n",
       "    </tr>\n",
       "    <tr>\n",
       "      <th>1</th>\n",
       "      <td>세이노의 가르침</td>\n",
       "      <td>세이노</td>\n",
       "      <td>데이원</td>\n",
       "      <td>7,200원</td>\n",
       "      <td>6,480원</td>\n",
       "      <td>360원</td>\n",
       "    </tr>\n",
       "    <tr>\n",
       "      <th>2</th>\n",
       "      <td>세이노의 가르침</td>\n",
       "      <td>세이노</td>\n",
       "      <td>데이원</td>\n",
       "      <td>7,200원</td>\n",
       "      <td>6,480원</td>\n",
       "      <td>360원</td>\n",
       "    </tr>\n",
       "    <tr>\n",
       "      <th>3</th>\n",
       "      <td>세이노의 가르침</td>\n",
       "      <td>세이노</td>\n",
       "      <td>데이원</td>\n",
       "      <td>7,200원</td>\n",
       "      <td>6,480원</td>\n",
       "      <td>360원</td>\n",
       "    </tr>\n",
       "    <tr>\n",
       "      <th>4</th>\n",
       "      <td>세이노의 가르침</td>\n",
       "      <td>세이노</td>\n",
       "      <td>데이원</td>\n",
       "      <td>7,200원</td>\n",
       "      <td>6,480원</td>\n",
       "      <td>360원</td>\n",
       "    </tr>\n",
       "  </tbody>\n",
       "</table>\n",
       "</div>"
      ],
      "text/plain": [
       "      title writer publisher   price dc_price mileage\n",
       "0  세이노의 가르침    세이노       데이원  7,200원   6,480원    360원\n",
       "1  세이노의 가르침    세이노       데이원  7,200원   6,480원    360원\n",
       "2  세이노의 가르침    세이노       데이원  7,200원   6,480원    360원\n",
       "3  세이노의 가르침    세이노       데이원  7,200원   6,480원    360원\n",
       "4  세이노의 가르침    세이노       데이원  7,200원   6,480원    360원"
      ]
     },
     "execution_count": 4,
     "metadata": {},
     "output_type": "execute_result"
    }
   ],
   "source": [
    "aladin = pd.DataFrame(lines)\n",
    "aladin.head()"
   ]
  },
  {
   "cell_type": "code",
   "execution_count": null,
   "metadata": {},
   "outputs": [],
   "source": []
  }
 ],
 "metadata": {
  "kernelspec": {
   "display_name": "base",
   "language": "python",
   "name": "python3"
  },
  "language_info": {
   "codemirror_mode": {
    "name": "ipython",
    "version": 3
   },
   "file_extension": ".py",
   "mimetype": "text/x-python",
   "name": "python",
   "nbconvert_exporter": "python",
   "pygments_lexer": "ipython3",
   "version": "3.10.10"
  },
  "orig_nbformat": 4
 },
 "nbformat": 4,
 "nbformat_minor": 2
}
