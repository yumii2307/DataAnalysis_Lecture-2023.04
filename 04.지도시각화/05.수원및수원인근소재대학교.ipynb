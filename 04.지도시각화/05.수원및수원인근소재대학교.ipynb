{
 "cells": [
  {
   "attachments": {},
   "cell_type": "markdown",
   "metadata": {},
   "source": [
    "- 수원 및 수원 인근 소재 대학교"
   ]
  },
  {
   "cell_type": "code",
   "execution_count": 50,
   "metadata": {},
   "outputs": [],
   "source": [
    "import folium\n",
    "import pandas as pd\n",
    "import requests, json\n",
    "from urllib.parse import quote\n",
    "import fontawesome as fa"
   ]
  },
  {
   "cell_type": "code",
   "execution_count": 51,
   "metadata": {},
   "outputs": [],
   "source": [
    "with open('data/roadapikey.txt') as f:\n",
    "    road_key = f.read()"
   ]
  },
  {
   "cell_type": "code",
   "execution_count": 52,
   "metadata": {},
   "outputs": [
    {
     "data": {
      "text/plain": [
       "['아주대학교',\n",
       " '동남보건대학',\n",
       " '수원 경기대학교',\n",
       " '수원 성균관대학교',\n",
       " '수원여자대학',\n",
       " '용인 경희대학교',\n",
       " '수원대학교',\n",
       " '수원과학대학',\n",
       " '장안대학',\n",
       " '협성대학',\n",
       " '수원 한국방송통신대학교']"
      ]
     },
     "execution_count": 52,
     "metadata": {},
     "output_type": "execute_result"
    }
   ],
   "source": [
    "univ_list = '아주대학교, 동남보건대학, 수원 경기대학교, 수원 성균관대학교, 수원여자대학, 용인 경희대학교, 수원대학교, 수원과학대학, 장안대학, 협성대학, 수원 한국방송통신대학교'.split(', ')\n",
    "univ_list"
   ]
  },
  {
   "cell_type": "code",
   "execution_count": 53,
   "metadata": {},
   "outputs": [],
   "source": [
    "road_addr_list = []\n",
    "for univ in univ_list:\n",
    "    base_url = 'https://www.juso.go.kr/addrlink/addrLinkApiJsonp.do'\n",
    "    params1 = f'confmKey={road_key}&currentPage=1&countPerPage=10'\n",
    "    params2 = f'keyword={quote(univ)}&resultType=json'\n",
    "    url = f'{base_url}?{params1}&{params2}'\n",
    "    result = requests.get(url)\n",
    "    if result.status_code == 200:\n",
    "        res = json.loads(result.text[1:-1])\n",
    "        road_addr_list.append(res['results']['juso'][0]['roadAddr'])\n",
    "    else:\n",
    "        print(result.status_code)"
   ]
  },
  {
   "cell_type": "code",
   "execution_count": 54,
   "metadata": {},
   "outputs": [
    {
     "ename": "TypeError",
     "evalue": "'Map' object is not callable",
     "output_type": "error",
     "traceback": [
      "\u001b[1;31m---------------------------------------------------------------------------\u001b[0m",
      "\u001b[1;31mTypeError\u001b[0m                                 Traceback (most recent call last)",
      "Cell \u001b[1;32mIn[54], line 2\u001b[0m\n\u001b[0;32m      1\u001b[0m df \u001b[39m=\u001b[39m pd\u001b[39m.\u001b[39mDataFrame({\n\u001b[1;32m----> 2\u001b[0m     \u001b[39m'\u001b[39m\u001b[39m대학명\u001b[39m\u001b[39m'\u001b[39m: \u001b[39mlist\u001b[39m(\u001b[39mmap\u001b[39;49m(\u001b[39mlambda\u001b[39;49;00m x: x\u001b[39m.\u001b[39;49msplit()[\u001b[39m-\u001b[39;49m\u001b[39m1\u001b[39;49m], univ_list)), \u001b[39m'\u001b[39m\u001b[39m도로명주소\u001b[39m\u001b[39m'\u001b[39m: road_addr_list\n\u001b[0;32m      3\u001b[0m })\n\u001b[0;32m      4\u001b[0m df\n",
      "\u001b[1;31mTypeError\u001b[0m: 'Map' object is not callable"
     ]
    }
   ],
   "source": [
    "df = pd.DataFrame({\n",
    "    '대학명': list(map(lambda x: x.split()[-1], univ_list)), '도로명주소': road_addr_list\n",
    "})\n",
    "df"
   ]
  },
  {
   "cell_type": "code",
   "execution_count": null,
   "metadata": {},
   "outputs": [],
   "source": [
    "with open('data/kakaoapikey.txt') as f:\n",
    "    kakao_key = f.read()"
   ]
  },
  {
   "cell_type": "code",
   "execution_count": null,
   "metadata": {},
   "outputs": [],
   "source": [
    "base_url = 'https://dapi.kakao.com/v2/local/search/address.json'\n",
    "header = {'Authorization': f'KakaoAK {kakao_key}'}"
   ]
  },
  {
   "cell_type": "code",
   "execution_count": null,
   "metadata": {},
   "outputs": [],
   "source": [
    "lat_list, lng_list = [], []\n",
    "for i in df.index:\n",
    "    url = f'{base_url}?query={quote(df.도로명주소[i])}'\n",
    "    result = requests.get(url, headers=header).json()\n",
    "    lat_list.append(float(result['documents'][0]['y']))\n",
    "    lng_list.append(float(result['documents'][0]['x']))"
   ]
  },
  {
   "cell_type": "code",
   "execution_count": null,
   "metadata": {},
   "outputs": [
    {
     "data": {
      "text/plain": [
       "['pink',\n",
       " 'lightgreen',\n",
       " 'darkgreen',\n",
       " 'black',\n",
       " 'lightred',\n",
       " 'darkblue',\n",
       " 'lightblue',\n",
       " 'purple',\n",
       " 'green',\n",
       " 'cadetblue',\n",
       " 'gray']"
      ]
     },
     "execution_count": 27,
     "metadata": {},
     "output_type": "execute_result"
    }
   ],
   "source": [
    "colors = ['pink', 'lightgreen', 'darkgreen', 'black', 'lightred', 'darkblue', 'lightblue', 'purple', 'green', 'cadetblue', 'gray', 'red', 'blue', 'lightgray', 'darkpurple', 'orange', 'darkred', 'beige']\n",
    "color = []\n",
    "for i in range(df.index[-1]+1):\n",
    "    color.append(colors[i])\n",
    "color"
   ]
  },
  {
   "cell_type": "code",
   "execution_count": null,
   "metadata": {},
   "outputs": [
    {
     "data": {
      "text/html": [
       "<div>\n",
       "<style scoped>\n",
       "    .dataframe tbody tr th:only-of-type {\n",
       "        vertical-align: middle;\n",
       "    }\n",
       "\n",
       "    .dataframe tbody tr th {\n",
       "        vertical-align: top;\n",
       "    }\n",
       "\n",
       "    .dataframe thead th {\n",
       "        text-align: right;\n",
       "    }\n",
       "</style>\n",
       "<table border=\"1\" class=\"dataframe\">\n",
       "  <thead>\n",
       "    <tr style=\"text-align: right;\">\n",
       "      <th></th>\n",
       "      <th>대학명</th>\n",
       "      <th>도로명주소</th>\n",
       "      <th>위도</th>\n",
       "      <th>경도</th>\n",
       "      <th>color</th>\n",
       "    </tr>\n",
       "  </thead>\n",
       "  <tbody>\n",
       "    <tr>\n",
       "      <th>0</th>\n",
       "      <td>아주대학교</td>\n",
       "      <td>경기도 수원시 영통구 월드컵로 199 (원천동)</td>\n",
       "      <td>37.279205</td>\n",
       "      <td>127.044142</td>\n",
       "      <td>pink</td>\n",
       "    </tr>\n",
       "    <tr>\n",
       "      <th>1</th>\n",
       "      <td>동남보건대학</td>\n",
       "      <td>경기도 수원시 장안구 천천로74번길 50 (정자동)</td>\n",
       "      <td>37.296938</td>\n",
       "      <td>126.987000</td>\n",
       "      <td>lightgreen</td>\n",
       "    </tr>\n",
       "    <tr>\n",
       "      <th>2</th>\n",
       "      <td>경기대학교</td>\n",
       "      <td>경기도 수원시 영통구 광교산로 154-42 (이의동)</td>\n",
       "      <td>37.298014</td>\n",
       "      <td>127.033117</td>\n",
       "      <td>darkgreen</td>\n",
       "    </tr>\n",
       "    <tr>\n",
       "      <th>3</th>\n",
       "      <td>성균관대학교</td>\n",
       "      <td>경기도 수원시 장안구 서부로 2066 (천천동)</td>\n",
       "      <td>37.295976</td>\n",
       "      <td>126.974209</td>\n",
       "      <td>black</td>\n",
       "    </tr>\n",
       "    <tr>\n",
       "      <th>4</th>\n",
       "      <td>수원여자대학</td>\n",
       "      <td>경기도 수원시 권선구 온정로 72 (오목천동)</td>\n",
       "      <td>37.252705</td>\n",
       "      <td>126.963307</td>\n",
       "      <td>lightred</td>\n",
       "    </tr>\n",
       "    <tr>\n",
       "      <th>5</th>\n",
       "      <td>경희대학교</td>\n",
       "      <td>경기도 용인시 기흥구 덕영대로 1732 (서천동)</td>\n",
       "      <td>37.239800</td>\n",
       "      <td>127.081199</td>\n",
       "      <td>darkblue</td>\n",
       "    </tr>\n",
       "    <tr>\n",
       "      <th>6</th>\n",
       "      <td>수원대학교</td>\n",
       "      <td>경기도 화성시 봉담읍 와우안길 17</td>\n",
       "      <td>37.210117</td>\n",
       "      <td>126.979480</td>\n",
       "      <td>lightblue</td>\n",
       "    </tr>\n",
       "    <tr>\n",
       "      <th>7</th>\n",
       "      <td>수원과학대학</td>\n",
       "      <td>경기도 화성시 정남면 세자로 288</td>\n",
       "      <td>37.192033</td>\n",
       "      <td>126.983927</td>\n",
       "      <td>purple</td>\n",
       "    </tr>\n",
       "    <tr>\n",
       "      <th>8</th>\n",
       "      <td>장안대학</td>\n",
       "      <td>경기도 화성시 봉담읍 삼천병마로 1182</td>\n",
       "      <td>37.213287</td>\n",
       "      <td>126.944482</td>\n",
       "      <td>green</td>\n",
       "    </tr>\n",
       "    <tr>\n",
       "      <th>9</th>\n",
       "      <td>협성대학</td>\n",
       "      <td>경기도 화성시 봉담읍 최루백로 72</td>\n",
       "      <td>37.213251</td>\n",
       "      <td>126.953623</td>\n",
       "      <td>cadetblue</td>\n",
       "    </tr>\n",
       "    <tr>\n",
       "      <th>10</th>\n",
       "      <td>한국방송통신대학교</td>\n",
       "      <td>경기도 수원시 장안구 장안로125번길 32 (정자동)</td>\n",
       "      <td>37.294287</td>\n",
       "      <td>126.998086</td>\n",
       "      <td>gray</td>\n",
       "    </tr>\n",
       "  </tbody>\n",
       "</table>\n",
       "</div>"
      ],
      "text/plain": [
       "          대학명                          도로명주소         위도          경도   \n",
       "0       아주대학교     경기도 수원시 영통구 월드컵로 199 (원천동)  37.279205  127.044142  \\\n",
       "1      동남보건대학   경기도 수원시 장안구 천천로74번길 50 (정자동)  37.296938  126.987000   \n",
       "2       경기대학교  경기도 수원시 영통구 광교산로 154-42 (이의동)  37.298014  127.033117   \n",
       "3      성균관대학교     경기도 수원시 장안구 서부로 2066 (천천동)  37.295976  126.974209   \n",
       "4      수원여자대학      경기도 수원시 권선구 온정로 72 (오목천동)  37.252705  126.963307   \n",
       "5       경희대학교    경기도 용인시 기흥구 덕영대로 1732 (서천동)  37.239800  127.081199   \n",
       "6       수원대학교            경기도 화성시 봉담읍 와우안길 17  37.210117  126.979480   \n",
       "7      수원과학대학            경기도 화성시 정남면 세자로 288  37.192033  126.983927   \n",
       "8        장안대학         경기도 화성시 봉담읍 삼천병마로 1182  37.213287  126.944482   \n",
       "9        협성대학            경기도 화성시 봉담읍 최루백로 72  37.213251  126.953623   \n",
       "10  한국방송통신대학교  경기도 수원시 장안구 장안로125번길 32 (정자동)  37.294287  126.998086   \n",
       "\n",
       "         color  \n",
       "0         pink  \n",
       "1   lightgreen  \n",
       "2    darkgreen  \n",
       "3        black  \n",
       "4     lightred  \n",
       "5     darkblue  \n",
       "6    lightblue  \n",
       "7       purple  \n",
       "8        green  \n",
       "9    cadetblue  \n",
       "10        gray  "
      ]
     },
     "execution_count": 28,
     "metadata": {},
     "output_type": "execute_result"
    }
   ],
   "source": [
    "df['위도'] = lat_list\n",
    "df['경도'] = lng_list\n",
    "df['color'] = color\n",
    "df"
   ]
  },
  {
   "cell_type": "code",
   "execution_count": null,
   "metadata": {},
   "outputs": [
    {
     "data": {
      "text/html": [
       "<div>\n",
       "<style scoped>\n",
       "    .dataframe tbody tr th:only-of-type {\n",
       "        vertical-align: middle;\n",
       "    }\n",
       "\n",
       "    .dataframe tbody tr th {\n",
       "        vertical-align: top;\n",
       "    }\n",
       "\n",
       "    .dataframe thead th {\n",
       "        text-align: right;\n",
       "    }\n",
       "</style>\n",
       "<table border=\"1\" class=\"dataframe\">\n",
       "  <thead>\n",
       "    <tr style=\"text-align: right;\">\n",
       "      <th></th>\n",
       "      <th>대학명</th>\n",
       "      <th>도로명주소</th>\n",
       "      <th>위도</th>\n",
       "      <th>경도</th>\n",
       "      <th>color</th>\n",
       "    </tr>\n",
       "  </thead>\n",
       "  <tbody>\n",
       "    <tr>\n",
       "      <th>0</th>\n",
       "      <td>아주대학교</td>\n",
       "      <td>경기도 수원시 영통구 월드컵로 199 (원천동)</td>\n",
       "      <td>37.279205</td>\n",
       "      <td>127.044142</td>\n",
       "      <td>pink</td>\n",
       "    </tr>\n",
       "    <tr>\n",
       "      <th>1</th>\n",
       "      <td>동남보건대학</td>\n",
       "      <td>경기도 수원시 장안구 천천로74번길 50 (정자동)</td>\n",
       "      <td>37.296938</td>\n",
       "      <td>126.987000</td>\n",
       "      <td>lightgreen</td>\n",
       "    </tr>\n",
       "    <tr>\n",
       "      <th>2</th>\n",
       "      <td>경기대학교</td>\n",
       "      <td>경기도 수원시 영통구 광교산로 154-42 (이의동)</td>\n",
       "      <td>37.298014</td>\n",
       "      <td>127.033117</td>\n",
       "      <td>darkgreen</td>\n",
       "    </tr>\n",
       "    <tr>\n",
       "      <th>3</th>\n",
       "      <td>성균관대학교</td>\n",
       "      <td>경기도 수원시 장안구 서부로 2066 (천천동)</td>\n",
       "      <td>37.295976</td>\n",
       "      <td>126.974209</td>\n",
       "      <td>black</td>\n",
       "    </tr>\n",
       "    <tr>\n",
       "      <th>4</th>\n",
       "      <td>수원여자대학</td>\n",
       "      <td>경기도 수원시 권선구 온정로 72 (오목천동)</td>\n",
       "      <td>37.252705</td>\n",
       "      <td>126.963307</td>\n",
       "      <td>lightred</td>\n",
       "    </tr>\n",
       "    <tr>\n",
       "      <th>5</th>\n",
       "      <td>경희대학교</td>\n",
       "      <td>경기도 용인시 기흥구 덕영대로 1732 (서천동)</td>\n",
       "      <td>37.239800</td>\n",
       "      <td>127.081199</td>\n",
       "      <td>darkblue</td>\n",
       "    </tr>\n",
       "    <tr>\n",
       "      <th>6</th>\n",
       "      <td>수원대학교</td>\n",
       "      <td>경기도 화성시 봉담읍 와우안길 17</td>\n",
       "      <td>37.210117</td>\n",
       "      <td>126.979480</td>\n",
       "      <td>lightblue</td>\n",
       "    </tr>\n",
       "    <tr>\n",
       "      <th>7</th>\n",
       "      <td>수원과학대학</td>\n",
       "      <td>경기도 화성시 정남면 세자로 288</td>\n",
       "      <td>37.192033</td>\n",
       "      <td>126.983927</td>\n",
       "      <td>purple</td>\n",
       "    </tr>\n",
       "    <tr>\n",
       "      <th>8</th>\n",
       "      <td>장안대학</td>\n",
       "      <td>경기도 화성시 봉담읍 삼천병마로 1182</td>\n",
       "      <td>37.213287</td>\n",
       "      <td>126.944482</td>\n",
       "      <td>green</td>\n",
       "    </tr>\n",
       "    <tr>\n",
       "      <th>9</th>\n",
       "      <td>협성대학</td>\n",
       "      <td>경기도 화성시 봉담읍 최루백로 72</td>\n",
       "      <td>37.213251</td>\n",
       "      <td>126.953623</td>\n",
       "      <td>cadetblue</td>\n",
       "    </tr>\n",
       "    <tr>\n",
       "      <th>10</th>\n",
       "      <td>한국방송통신대학교</td>\n",
       "      <td>경기도 수원시 장안구 장안로125번길 32 (정자동)</td>\n",
       "      <td>37.294287</td>\n",
       "      <td>126.998086</td>\n",
       "      <td>gray</td>\n",
       "    </tr>\n",
       "  </tbody>\n",
       "</table>\n",
       "</div>"
      ],
      "text/plain": [
       "          대학명                          도로명주소         위도          경도   \n",
       "0       아주대학교     경기도 수원시 영통구 월드컵로 199 (원천동)  37.279205  127.044142  \\\n",
       "1      동남보건대학   경기도 수원시 장안구 천천로74번길 50 (정자동)  37.296938  126.987000   \n",
       "2       경기대학교  경기도 수원시 영통구 광교산로 154-42 (이의동)  37.298014  127.033117   \n",
       "3      성균관대학교     경기도 수원시 장안구 서부로 2066 (천천동)  37.295976  126.974209   \n",
       "4      수원여자대학      경기도 수원시 권선구 온정로 72 (오목천동)  37.252705  126.963307   \n",
       "5       경희대학교    경기도 용인시 기흥구 덕영대로 1732 (서천동)  37.239800  127.081199   \n",
       "6       수원대학교            경기도 화성시 봉담읍 와우안길 17  37.210117  126.979480   \n",
       "7      수원과학대학            경기도 화성시 정남면 세자로 288  37.192033  126.983927   \n",
       "8        장안대학         경기도 화성시 봉담읍 삼천병마로 1182  37.213287  126.944482   \n",
       "9        협성대학            경기도 화성시 봉담읍 최루백로 72  37.213251  126.953623   \n",
       "10  한국방송통신대학교  경기도 수원시 장안구 장안로125번길 32 (정자동)  37.294287  126.998086   \n",
       "\n",
       "         color  \n",
       "0         pink  \n",
       "1   lightgreen  \n",
       "2    darkgreen  \n",
       "3        black  \n",
       "4     lightred  \n",
       "5     darkblue  \n",
       "6    lightblue  \n",
       "7       purple  \n",
       "8        green  \n",
       "9    cadetblue  \n",
       "10        gray  "
      ]
     },
     "execution_count": 29,
     "metadata": {},
     "output_type": "execute_result"
    }
   ],
   "source": [
    "df.to_csv('data/수원용인소재대학교.csv', index=False)\n",
    "pd.read_csv('data/수원용인소재대학교.csv')"
   ]
  },
  {
   "cell_type": "code",
   "execution_count": null,
   "metadata": {},
   "outputs": [],
   "source": [
    "# pushpin = folium.features.CustomIcon('data/pushpin.png', icon_size=(30,30))\n",
    "# icon = pushpin"
   ]
  },
  {
   "cell_type": "code",
   "execution_count": null,
   "metadata": {},
   "outputs": [
    {
     "name": "stdout",
     "output_type": "stream",
     "text": [
      "\n"
     ]
    }
   ],
   "source": [
    "print(fa.icons['thumbs-up'])"
   ]
  },
  {
   "cell_type": "code",
   "execution_count": null,
   "metadata": {},
   "outputs": [
    {
     "ename": "AttributeError",
     "evalue": "'str' object has no attribute 'get_name'",
     "output_type": "error",
     "traceback": [
      "\u001b[1;31m---------------------------------------------------------------------------\u001b[0m",
      "\u001b[1;31mAttributeError\u001b[0m                            Traceback (most recent call last)",
      "Cell \u001b[1;32mIn[49], line 4\u001b[0m\n\u001b[0;32m      2\u001b[0m \u001b[39mfor\u001b[39;00m i \u001b[39min\u001b[39;00m df\u001b[39m.\u001b[39mindex:\n\u001b[0;32m      3\u001b[0m     logo \u001b[39m=\u001b[39m folium\u001b[39m.\u001b[39mCustomIcon(\u001b[39mf\u001b[39m\u001b[39m'\u001b[39m\u001b[39mdata/학사모.png\u001b[39m\u001b[39m'\u001b[39m, icon_size\u001b[39m=\u001b[39m(\u001b[39m30\u001b[39m,\u001b[39m30\u001b[39m))\n\u001b[1;32m----> 4\u001b[0m     folium\u001b[39m.\u001b[39;49mMarker(\n\u001b[0;32m      5\u001b[0m         location\u001b[39m=\u001b[39;49m[df\u001b[39m.\u001b[39;49m위도[i], df\u001b[39m.\u001b[39;49m경도[i]],\n\u001b[0;32m      6\u001b[0m         popup\u001b[39m=\u001b[39;49mfolium\u001b[39m.\u001b[39;49mPopup(df\u001b[39m.\u001b[39;49m도로명주소[i], max_width\u001b[39m=\u001b[39;49m\u001b[39m200\u001b[39;49m),\n\u001b[0;32m      7\u001b[0m         tooltip\u001b[39m=\u001b[39;49mdf\u001b[39m.\u001b[39;49m대학명[i],\n\u001b[0;32m      8\u001b[0m         icon\u001b[39m=\u001b[39;49mfa\u001b[39m.\u001b[39;49micons[\u001b[39m'\u001b[39;49m\u001b[39mthumbs-up\u001b[39;49m\u001b[39m'\u001b[39;49m]\n\u001b[0;32m      9\u001b[0m     )\u001b[39m.\u001b[39madd_to(\u001b[39mmap\u001b[39m)\n\u001b[0;32m     11\u001b[0m title_html \u001b[39m=\u001b[39m \u001b[39m'\u001b[39m\u001b[39m<h3 align=\u001b[39m\u001b[39m\"\u001b[39m\u001b[39mcenter\u001b[39m\u001b[39m\"\u001b[39m\u001b[39m style=\u001b[39m\u001b[39m\"\u001b[39m\u001b[39mfont-size:20px\u001b[39m\u001b[39m\"\u001b[39m\u001b[39m>수원 및 수원 인근 소재 대학교</h3>\u001b[39m\u001b[39m'\u001b[39m\n\u001b[0;32m     12\u001b[0m \u001b[39mmap\u001b[39m\u001b[39m.\u001b[39mget_root()\u001b[39m.\u001b[39mhtml\u001b[39m.\u001b[39madd_child(folium\u001b[39m.\u001b[39mElement(title_html))\n",
      "File \u001b[1;32mc:\\Users\\YONSAI\\anaconda3\\lib\\site-packages\\folium\\map.py:331\u001b[0m, in \u001b[0;36mMarker.__init__\u001b[1;34m(self, location, popup, tooltip, icon, draggable, **kwargs)\u001b[0m\n\u001b[0;32m    327\u001b[0m \u001b[39mself\u001b[39m\u001b[39m.\u001b[39moptions \u001b[39m=\u001b[39m parse_options(\n\u001b[0;32m    328\u001b[0m     draggable\u001b[39m=\u001b[39mdraggable \u001b[39mor\u001b[39;00m \u001b[39mNone\u001b[39;00m, autoPan\u001b[39m=\u001b[39mdraggable \u001b[39mor\u001b[39;00m \u001b[39mNone\u001b[39;00m, \u001b[39m*\u001b[39m\u001b[39m*\u001b[39mkwargs\n\u001b[0;32m    329\u001b[0m )\n\u001b[0;32m    330\u001b[0m \u001b[39mif\u001b[39;00m icon \u001b[39mis\u001b[39;00m \u001b[39mnot\u001b[39;00m \u001b[39mNone\u001b[39;00m:\n\u001b[1;32m--> 331\u001b[0m     \u001b[39mself\u001b[39;49m\u001b[39m.\u001b[39;49madd_child(icon)\n\u001b[0;32m    332\u001b[0m     \u001b[39mself\u001b[39m\u001b[39m.\u001b[39micon \u001b[39m=\u001b[39m icon\n\u001b[0;32m    333\u001b[0m \u001b[39mif\u001b[39;00m popup \u001b[39mis\u001b[39;00m \u001b[39mnot\u001b[39;00m \u001b[39mNone\u001b[39;00m:\n",
      "File \u001b[1;32mc:\\Users\\YONSAI\\anaconda3\\lib\\site-packages\\branca\\element.py:123\u001b[0m, in \u001b[0;36mElement.add_child\u001b[1;34m(self, child, name, index)\u001b[0m\n\u001b[0;32m    121\u001b[0m \u001b[39m\u001b[39m\u001b[39m\"\"\"Add a child.\"\"\"\u001b[39;00m\n\u001b[0;32m    122\u001b[0m \u001b[39mif\u001b[39;00m name \u001b[39mis\u001b[39;00m \u001b[39mNone\u001b[39;00m:\n\u001b[1;32m--> 123\u001b[0m     name \u001b[39m=\u001b[39m child\u001b[39m.\u001b[39;49mget_name()\n\u001b[0;32m    124\u001b[0m \u001b[39mif\u001b[39;00m index \u001b[39mis\u001b[39;00m \u001b[39mNone\u001b[39;00m:\n\u001b[0;32m    125\u001b[0m     \u001b[39mself\u001b[39m\u001b[39m.\u001b[39m_children[name] \u001b[39m=\u001b[39m child\n",
      "\u001b[1;31mAttributeError\u001b[0m: 'str' object has no attribute 'get_name'"
     ]
    }
   ],
   "source": [
    "map = folium.Map(location=[df.위도.mean(), df.경도.mean()], zoom_start=11)\n",
    "for i in df.index:\n",
    "    logo = folium.CustomIcon(f'data/학사모.png', icon_size=(30,30))\n",
    "    folium.Marker(\n",
    "        location=[df.위도[i], df.경도[i]],\n",
    "        popup=folium.Popup(df.도로명주소[i], max_width=200),\n",
    "        tooltip=df.대학명[i],\n",
    "        icon=fa.icons['thumbs-up']\n",
    "    ).add_to(map)\n",
    "\n",
    "title_html = '<h3 align=\"center\" style=\"font-size:20px\">수원 및 수원 인근 소재 대학교</h3>'\n",
    "map.get_root().html.add_child(folium.Element(title_html))\n",
    "map"
   ]
  },
  {
   "cell_type": "code",
   "execution_count": null,
   "metadata": {},
   "outputs": [],
   "source": []
  }
 ],
 "metadata": {
  "kernelspec": {
   "display_name": "base",
   "language": "python",
   "name": "python3"
  },
  "language_info": {
   "codemirror_mode": {
    "name": "ipython",
    "version": 3
   },
   "file_extension": ".py",
   "mimetype": "text/x-python",
   "name": "python",
   "nbconvert_exporter": "python",
   "pygments_lexer": "ipython3",
   "version": "3.10.10"
  },
  "orig_nbformat": 4
 },
 "nbformat": 4,
 "nbformat_minor": 2
}
