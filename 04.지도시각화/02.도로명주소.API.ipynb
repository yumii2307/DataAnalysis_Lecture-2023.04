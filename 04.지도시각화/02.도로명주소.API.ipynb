{
 "cells": [
  {
   "attachments": {},
   "cell_type": "markdown",
   "metadata": {},
   "source": [
    "### 행정안전부 도로명주소 API 활용"
   ]
  },
  {
   "cell_type": "code",
   "execution_count": 1,
   "metadata": {},
   "outputs": [],
   "source": [
    "import requests, json\n",
    "from urllib.parse import quote      # 한글 인코딩"
   ]
  },
  {
   "attachments": {},
   "cell_type": "markdown",
   "metadata": {},
   "source": [
    "- API Key 가져오기"
   ]
  },
  {
   "cell_type": "code",
   "execution_count": 3,
   "metadata": {},
   "outputs": [],
   "source": [
    "with open('data/roadapikey.txt') as f:\n",
    "    road_key = f.read()"
   ]
  },
  {
   "attachments": {},
   "cell_type": "markdown",
   "metadata": {},
   "source": [
    "- URL 만들기"
   ]
  },
  {
   "cell_type": "code",
   "execution_count": 5,
   "metadata": {},
   "outputs": [
    {
     "data": {
      "text/plain": [
       "'%EA%B2%BD%EA%B8%B0%EB%8F%84%EC%B2%AD'"
      ]
     },
     "execution_count": 5,
     "metadata": {},
     "output_type": "execute_result"
    }
   ],
   "source": [
    "# 한글은 반드시 인코딩해서 보내야 함\n",
    "quote('경기도청')"
   ]
  },
  {
   "cell_type": "code",
   "execution_count": 6,
   "metadata": {},
   "outputs": [],
   "source": [
    "base_url = 'https://www.juso.go.kr/addrlink/addrLinkApiJsonp.do'\n",
    "params1 = f'confmKey={road_key}&currentPage=1&countPerPage=10'\n",
    "params2 = f'keyword={quote(\"경기도청\")}&resultType=json'\n",
    "url = f'{base_url}?{params1}&{params2}'"
   ]
  },
  {
   "attachments": {},
   "cell_type": "markdown",
   "metadata": {},
   "source": [
    "- Open API를 호출하여 결과 받기"
   ]
  },
  {
   "cell_type": "code",
   "execution_count": 7,
   "metadata": {},
   "outputs": [
    {
     "data": {
      "text/plain": [
       "200"
      ]
     },
     "execution_count": 7,
     "metadata": {},
     "output_type": "execute_result"
    }
   ],
   "source": [
    "result = requests.get(url)\n",
    "result.status_code"
   ]
  },
  {
   "cell_type": "code",
   "execution_count": 10,
   "metadata": {},
   "outputs": [
    {
     "data": {
      "text/plain": [
       "'({\"results\":{\"common\":{\"errorMessage\":\"정상\",\"countPerPage\":\"10\",\"totalCount\":\"68\",\"errorCode\":\"0\",\"currentPage\":\"1\"},\"juso\":[{\"detBdNmList\":\"\",\"engAddr\":\"30 Docheong-ro, Yeongtong-gu, Suwon-si, Gyeongg'"
      ]
     },
     "execution_count": 10,
     "metadata": {},
     "output_type": "execute_result"
    }
   ],
   "source": [
    "result.text[:200]"
   ]
  },
  {
   "attachments": {},
   "cell_type": "markdown",
   "metadata": {},
   "source": [
    "- JSON data를 python에서 읽을 수 있도록 변환"
   ]
  },
  {
   "cell_type": "code",
   "execution_count": 11,
   "metadata": {},
   "outputs": [],
   "source": [
    "# 시작과 끝에 ( )가 있어, 이것을 없애주어야 함\n",
    "res = json.loads(result.text[1:-1])"
   ]
  },
  {
   "attachments": {},
   "cell_type": "markdown",
   "metadata": {},
   "source": [
    "- 딕셔너리 데이터에서 필요한 정보 추출하기"
   ]
  },
  {
   "cell_type": "code",
   "execution_count": 16,
   "metadata": {},
   "outputs": [
    {
     "data": {
      "text/plain": [
       "dict_keys(['results'])"
      ]
     },
     "execution_count": 16,
     "metadata": {},
     "output_type": "execute_result"
    }
   ],
   "source": [
    "res.keys()"
   ]
  },
  {
   "cell_type": "code",
   "execution_count": 18,
   "metadata": {},
   "outputs": [
    {
     "data": {
      "text/plain": [
       "dict_keys(['common', 'juso'])"
      ]
     },
     "execution_count": 18,
     "metadata": {},
     "output_type": "execute_result"
    }
   ],
   "source": [
    "res['results'].keys()"
   ]
  },
  {
   "cell_type": "code",
   "execution_count": 25,
   "metadata": {},
   "outputs": [
    {
     "data": {
      "text/plain": [
       "list"
      ]
     },
     "execution_count": 25,
     "metadata": {},
     "output_type": "execute_result"
    }
   ],
   "source": [
    "type(res['results']['juso'])"
   ]
  },
  {
   "cell_type": "code",
   "execution_count": 26,
   "metadata": {},
   "outputs": [
    {
     "data": {
      "text/plain": [
       "{'detBdNmList': '',\n",
       " 'engAddr': '30 Docheong-ro, Yeongtong-gu, Suwon-si, Gyeonggi-do',\n",
       " 'rn': '도청로',\n",
       " 'emdNm': '이의동',\n",
       " 'zipNo': '16508',\n",
       " 'roadAddrPart2': ' (이의동)',\n",
       " 'emdNo': '01',\n",
       " 'sggNm': '수원시 영통구',\n",
       " 'jibunAddr': '경기도 수원시 영통구 이의동 0 경기도청',\n",
       " 'siNm': '경기도',\n",
       " 'roadAddrPart1': '경기도 수원시 영통구 도청로 30',\n",
       " 'bdNm': '경기도청',\n",
       " 'admCd': '4111710300',\n",
       " 'udrtYn': '0',\n",
       " 'lnbrMnnm': '0',\n",
       " 'roadAddr': '경기도 수원시 영통구 도청로 30 (이의동)',\n",
       " 'lnbrSlno': '0',\n",
       " 'buldMnnm': '30',\n",
       " 'bdKdcd': '0',\n",
       " 'liNm': '',\n",
       " 'rnMgtSn': '411173177029',\n",
       " 'mtYn': '0',\n",
       " 'bdMgtSn': '4111710300100000000000001',\n",
       " 'buldSlno': '0'}"
      ]
     },
     "execution_count": 26,
     "metadata": {},
     "output_type": "execute_result"
    }
   ],
   "source": [
    "res['results']['juso'][0]"
   ]
  },
  {
   "cell_type": "code",
   "execution_count": 27,
   "metadata": {},
   "outputs": [
    {
     "data": {
      "text/plain": [
       "'경기도 수원시 영통구 도청로 30 (이의동)'"
      ]
     },
     "execution_count": 27,
     "metadata": {},
     "output_type": "execute_result"
    }
   ],
   "source": [
    "# 원하는 결과\n",
    "res['results']['juso'][0]['roadAddr']"
   ]
  },
  {
   "attachments": {},
   "cell_type": "markdown",
   "metadata": {},
   "source": [
    "#### 경기도청, 장안구청, 권선구청, 팔달구청, 영통구청"
   ]
  },
  {
   "cell_type": "code",
   "execution_count": 28,
   "metadata": {},
   "outputs": [
    {
     "data": {
      "text/plain": [
       "['경기도청', '장안구청', '권선구청', '팔달구청', '영통구청']"
      ]
     },
     "execution_count": 28,
     "metadata": {},
     "output_type": "execute_result"
    }
   ],
   "source": [
    "gov_list = '경기도청, 장안구청, 권선구청, 팔달구청, 영통구청'.split(', ')\n",
    "gov_list"
   ]
  },
  {
   "cell_type": "code",
   "execution_count": 30,
   "metadata": {},
   "outputs": [],
   "source": [
    "road_addr_list = []\n",
    "for gov in gov_list:\n",
    "    base_url = 'https://www.juso.go.kr/addrlink/addrLinkApiJsonp.do'\n",
    "    params1 = f'confmKey={road_key}&currentPage=1&countPerPage=10'\n",
    "    params2 = f'keyword={quote(gov)}&resultType=json'\n",
    "    url = f'{base_url}?{params1}&{params2}'\n",
    "    result = requests.get(url)\n",
    "    if result.status_code == 200:\n",
    "        res = json.loads(result.text[1:-1])\n",
    "        road_addr_list.append(res['results']['juso'][0]['roadAddr'])\n",
    "    else:\n",
    "        print(result.status_code)"
   ]
  },
  {
   "cell_type": "code",
   "execution_count": 40,
   "metadata": {},
   "outputs": [
    {
     "data": {
      "text/html": [
       "<div>\n",
       "<style scoped>\n",
       "    .dataframe tbody tr th:only-of-type {\n",
       "        vertical-align: middle;\n",
       "    }\n",
       "\n",
       "    .dataframe tbody tr th {\n",
       "        vertical-align: top;\n",
       "    }\n",
       "\n",
       "    .dataframe thead th {\n",
       "        text-align: right;\n",
       "    }\n",
       "</style>\n",
       "<table border=\"1\" class=\"dataframe\">\n",
       "  <thead>\n",
       "    <tr style=\"text-align: right;\">\n",
       "      <th></th>\n",
       "      <th>관공서명</th>\n",
       "      <th>도로명 주소</th>\n",
       "    </tr>\n",
       "  </thead>\n",
       "  <tbody>\n",
       "    <tr>\n",
       "      <th>0</th>\n",
       "      <td>경기도청</td>\n",
       "      <td>경기도 수원시 영통구 도청로 30 (이의동)</td>\n",
       "    </tr>\n",
       "    <tr>\n",
       "      <th>1</th>\n",
       "      <td>장안구청</td>\n",
       "      <td>경기도 수원시 장안구 송원로 101 (조원동)</td>\n",
       "    </tr>\n",
       "    <tr>\n",
       "      <th>2</th>\n",
       "      <td>권선구청</td>\n",
       "      <td>경기도 수원시 권선구 호매실로 12 (탑동)</td>\n",
       "    </tr>\n",
       "    <tr>\n",
       "      <th>3</th>\n",
       "      <td>팔달구청</td>\n",
       "      <td>경기도 수원시 팔달구 창룡대로 23 (매향동)</td>\n",
       "    </tr>\n",
       "    <tr>\n",
       "      <th>4</th>\n",
       "      <td>영통구청</td>\n",
       "      <td>경기도 수원시 영통구 효원로 407 (매탄동)</td>\n",
       "    </tr>\n",
       "  </tbody>\n",
       "</table>\n",
       "</div>"
      ],
      "text/plain": [
       "   관공서명                     도로명 주소\n",
       "0  경기도청   경기도 수원시 영통구 도청로 30 (이의동)\n",
       "1  장안구청  경기도 수원시 장안구 송원로 101 (조원동)\n",
       "2  권선구청   경기도 수원시 권선구 호매실로 12 (탑동)\n",
       "3  팔달구청  경기도 수원시 팔달구 창룡대로 23 (매향동)\n",
       "4  영통구청  경기도 수원시 영통구 효원로 407 (매탄동)"
      ]
     },
     "execution_count": 40,
     "metadata": {},
     "output_type": "execute_result"
    }
   ],
   "source": [
    "import pandas as pd\n",
    "\n",
    "df = pd.DataFrame({\n",
    "    '관공서명': gov_list, '도로명 주소': road_addr_list\n",
    "})\n",
    "df"
   ]
  },
  {
   "cell_type": "code",
   "execution_count": 41,
   "metadata": {},
   "outputs": [
    {
     "data": {
      "text/html": [
       "<div>\n",
       "<style scoped>\n",
       "    .dataframe tbody tr th:only-of-type {\n",
       "        vertical-align: middle;\n",
       "    }\n",
       "\n",
       "    .dataframe tbody tr th {\n",
       "        vertical-align: top;\n",
       "    }\n",
       "\n",
       "    .dataframe thead th {\n",
       "        text-align: right;\n",
       "    }\n",
       "</style>\n",
       "<table border=\"1\" class=\"dataframe\">\n",
       "  <thead>\n",
       "    <tr style=\"text-align: right;\">\n",
       "      <th></th>\n",
       "      <th>관공서명</th>\n",
       "      <th>도로명 주소</th>\n",
       "    </tr>\n",
       "  </thead>\n",
       "  <tbody>\n",
       "    <tr>\n",
       "      <th>0</th>\n",
       "      <td>경기도청</td>\n",
       "      <td>경기도 수원시 영통구 도청로 30 (이의동)</td>\n",
       "    </tr>\n",
       "    <tr>\n",
       "      <th>1</th>\n",
       "      <td>장안구청</td>\n",
       "      <td>경기도 수원시 장안구 송원로 101 (조원동)</td>\n",
       "    </tr>\n",
       "    <tr>\n",
       "      <th>2</th>\n",
       "      <td>권선구청</td>\n",
       "      <td>경기도 수원시 권선구 호매실로 12 (탑동)</td>\n",
       "    </tr>\n",
       "    <tr>\n",
       "      <th>3</th>\n",
       "      <td>팔달구청</td>\n",
       "      <td>경기도 수원시 팔달구 창룡대로 23 (매향동)</td>\n",
       "    </tr>\n",
       "    <tr>\n",
       "      <th>4</th>\n",
       "      <td>영통구청</td>\n",
       "      <td>경기도 수원시 영통구 효원로 407 (매탄동)</td>\n",
       "    </tr>\n",
       "  </tbody>\n",
       "</table>\n",
       "</div>"
      ],
      "text/plain": [
       "   관공서명                     도로명 주소\n",
       "0  경기도청   경기도 수원시 영통구 도청로 30 (이의동)\n",
       "1  장안구청  경기도 수원시 장안구 송원로 101 (조원동)\n",
       "2  권선구청   경기도 수원시 권선구 호매실로 12 (탑동)\n",
       "3  팔달구청  경기도 수원시 팔달구 창룡대로 23 (매향동)\n",
       "4  영통구청  경기도 수원시 영통구 효원로 407 (매탄동)"
      ]
     },
     "execution_count": 41,
     "metadata": {},
     "output_type": "execute_result"
    }
   ],
   "source": [
    "df.to_csv('data/수원소재관공서.csv', index=False)\n",
    "pd.read_csv('data/수원소재관공서.csv')"
   ]
  },
  {
   "cell_type": "code",
   "execution_count": null,
   "metadata": {},
   "outputs": [],
   "source": []
  }
 ],
 "metadata": {
  "kernelspec": {
   "display_name": "base",
   "language": "python",
   "name": "python3"
  },
  "language_info": {
   "codemirror_mode": {
    "name": "ipython",
    "version": 3
   },
   "file_extension": ".py",
   "mimetype": "text/x-python",
   "name": "python",
   "nbconvert_exporter": "python",
   "pygments_lexer": "ipython3",
   "version": "3.10.10"
  },
  "orig_nbformat": 4
 },
 "nbformat": 4,
 "nbformat_minor": 2
}
